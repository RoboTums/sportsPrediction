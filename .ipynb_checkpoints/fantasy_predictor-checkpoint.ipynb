{
 "cells": [
  {
   "cell_type": "code",
   "execution_count": 1,
   "metadata": {},
   "outputs": [],
   "source": [
    "import pandas as pd\n",
    "import numpy as np"
   ]
  },
  {
   "cell_type": "code",
   "execution_count": 16,
   "metadata": {},
   "outputs": [],
   "source": [
    "qb = pd.read_csv(\"data/finalized_data/finalized_QB.csv\", index_col=0)\n",
    "de = pd.read_csv(\"data/finalized_data/finalized_DEF.csv\", index_col=0)\n",
    "rb = pd.read_csv(\"data/finalized_data/finalized_RB.csv\", index_col=0)\n",
    "te = pd.read_csv(\"data/finalized_data/finalized_TE.csv\", index_col=0)\n",
    "wr = pd.read_csv(\"data/finalized_data/finalized_WR.csv\", index_col=0)\n"
   ]
  },
  {
   "cell_type": "markdown",
   "metadata": {},
   "source": [
    "### VARIABLES FOR ALL DATASETS EXCEPT DEF\n",
    "#### Useless variables\n",
    "- Season \n",
    "- Position (same as file name, except for FB and RB in RB)\n",
    "- Game Date is probably irrelevant if we have the weeks?\n",
    "- Also all Years are 2019\n",
    "- All Games Played are 1\n",
    "- All Years Played are nan\n",
    "\n",
    "#### Very important variables\n",
    "- week (for time series)\n",
    "- Outcome\n",
    "- Score\n",
    "\n",
    "#### Sample values of features\n",
    "- Year (2019) #integer\n",
    "- week (1) #integer\n",
    "- Game Date ('09/08') #string\n",
    "- Home or Away ('Away') #string\n",
    "- opponent ('PIT') #string\n",
    "- Outcome ('W') #string\n",
    "- Score ('59 to 10') #string\n",
    "- Games Played (1) #integer\n",
    "- Games Started (1 or 0) #integer\n",
    "- Rushing Attempts ('7' or '--') #string\n",
    "- Yards Per Carry ('10.7' or '--') #string\n",
    "- Rushing TDs ('1' or '--') #string\n",
    "- Fumbles ('--' or '1') #string\n",
    "- Fumbles Lost ('--' or '1') #string\n",
    "- team ('det') #string\n",
    "- salary (4500) #integer\n",
    "- Age (21.) #float?\n",
    "- Birth Place ('Gainesville , GA') #string\n",
    "- Birthday ('1/7/1997') #string\n",
    "- College ('Louisville') #string\n",
    "- Current Status ('Injured reserve') #string\n",
    "- Current Team ('Buffalo Bills') #string WHAT IS THE DIFFERENCE BETWEEN THIS AND team???\n",
    "- Experience ('10th season') #string\n",
    "- Height (inches) (71.) #float\n",
    "- High School ('Grand Blanc HS') #string\n",
    "- High School Location ('Powder Springs, GA' or 'GA') #string\n",
    "- Number (nan or 17. ) #float\n",
    "- Weight (lbs) (260.) #float\n",
    "\n",
    "##### ONLY ON QB DATASET\n",
    "- Passes Completed ('17' or '--') #string\n",
    "- Passes Attempted ('17' or '--') #string\n",
    "- Completion Percentage ('57.7' or '--') #string\n",
    "- Passing Yards ('308' or '--') #string\n",
    "- Passing Yards Per Attempt ('9.1' or '--') #string\n",
    "- TD Passes ('3' or '--') #string\n",
    "- Ints ('2' or '--') #string\n",
    "- Sacks ('3' or '--') #string\n",
    "- Sacked Yards Lost ('17' or '--') #string\n",
    "- Passer Rating (71.9) #float"
   ]
  },
  {
   "cell_type": "markdown",
   "metadata": {},
   "source": [
    "### Next Steps\n",
    "\n",
    "1. Do analysis for the rest of features\n",
    "2. One-hot-encode the strings and convert all ints to floats\n",
    "3. Create one feature vector per instance\n",
    "4. Separate the time variable, and labels\n",
    "5. Start experimenting with regressors"
   ]
  },
  {
   "cell_type": "code",
   "execution_count": 46,
   "metadata": {},
   "outputs": [
    {
     "data": {
      "text/plain": [
       "Index(['Player Id', 'name', 'Position', 'Year', 'Season', 'week', 'Game Date',\n",
       "       'Home or Away', 'opponent', 'Outcome', 'Score', 'Games Played',\n",
       "       'Games Started', 'Passes Completed', 'Passes Attempted',\n",
       "       'Completion Percentage', 'Passing Yards', 'Passing Yards Per Attempt',\n",
       "       'TD Passes', 'Ints', 'Sacks', 'Sacked Yards Lost', 'Passer Rating',\n",
       "       'Rushing Attempts', 'Rushing Yards', 'Yards Per Carry', 'Rushing TDs',\n",
       "       'Fumbles', 'Fumbles Lost', 'Unnamed: 0.1', 'team', 'points', 'salary',\n",
       "       'Age', 'Birth Place', 'Birthday', 'College', 'Current Status',\n",
       "       'Current Team', 'Experience', 'Height (inches)', 'High School',\n",
       "       'High School Location', 'Number', 'Weight (lbs)', 'Years Played'],\n",
       "      dtype='object')"
      ]
     },
     "execution_count": 46,
     "metadata": {},
     "output_type": "execute_result"
    }
   ],
   "source": [
    "qb.columns"
   ]
  },
  {
   "cell_type": "code",
   "execution_count": 90,
   "metadata": {},
   "outputs": [
    {
     "name": "stdout",
     "output_type": "stream",
     "text": [
      "[nan]\n",
      "[nan]\n",
      "[nan]\n",
      "[nan]\n"
     ]
    }
   ],
   "source": [
    "col = 'Years Played'\n",
    "print(qb[col].unique())\n",
    "print(rb[col].unique())\n",
    "print(te[col].unique())\n",
    "print(wr[col].unique())"
   ]
  },
  {
   "cell_type": "code",
   "execution_count": 20,
   "metadata": {},
   "outputs": [
    {
     "data": {
      "text/plain": [
       "(array(['Regular Season'], dtype=object),\n",
       " array(['Regular Season'], dtype=object))"
      ]
     },
     "execution_count": 20,
     "metadata": {},
     "output_type": "execute_result"
    }
   ],
   "source": [
    "te[\"Season\"].unique(), wr[\"Season\"].unique()"
   ]
  },
  {
   "cell_type": "code",
   "execution_count": null,
   "metadata": {},
   "outputs": [],
   "source": []
  }
 ],
 "metadata": {
  "kernelspec": {
   "display_name": "Python 3",
   "language": "python",
   "name": "python3"
  },
  "language_info": {
   "codemirror_mode": {
    "name": "ipython",
    "version": 3
   },
   "file_extension": ".py",
   "mimetype": "text/x-python",
   "name": "python",
   "nbconvert_exporter": "python",
   "pygments_lexer": "ipython3",
   "version": "3.6.8"
  }
 },
 "nbformat": 4,
 "nbformat_minor": 2
}
