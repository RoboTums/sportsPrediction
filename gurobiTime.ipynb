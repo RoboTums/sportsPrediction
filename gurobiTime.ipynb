{
 "cells": [
  {
   "cell_type": "code",
   "execution_count": 4,
   "metadata": {},
   "outputs": [],
   "source": [
    "import gurobipy as gp\n",
    "from gurobipy import GRB\n",
    "import pandas as pd\n"
   ]
  },
  {
   "cell_type": "markdown",
   "metadata": {},
   "source": [
    "# Import Dataset, Processing"
   ]
  },
  {
   "cell_type": "code",
   "execution_count": 5,
   "metadata": {},
   "outputs": [],
   "source": [
    "DF = pd.read_csv('gurobiTime.csv',index_col=0)\n",
    "DF = DF.drop(['player.1'],axis=1)\n",
    "\n",
    "\n",
    "positionDF = []\n",
    "num_positions = len(DF['position'].unique())\n",
    "\n",
    "\n",
    "for i in DF['position'].unique():\n",
    "    positionDF.append( (DF[DF['position'] == i]) )\n",
    "\n",
    "    "
   ]
  },
  {
   "cell_type": "markdown",
   "metadata": {},
   "source": [
    "Make Gurobi datastructures to help represent the problem\n",
    "\n",
    "We create dictionaries for every single variable for each player, to allow for efficient access and ease of use.  The keys are Players, the tupleList objects are returnPlayer, playerVariance, playerCost , and position\n",
    "\n",
    "\n",
    "QB, RB, RB, WR, WR, WR, TE, D, K \n",
    "\n"
   ]
  },
  {
   "cell_type": "code",
   "execution_count": 59,
   "metadata": {},
   "outputs": [],
   "source": [
    "bigDict = {}\n",
    "for df_iter in range(len(positionDF)):\n",
    "    \n",
    "    currPosition = positionDF[df_iter]  \n",
    "    for player in currPosition.index:\n",
    "        returnPlayer = currPosition.loc[player]['mean']\n",
    "        playerVariance = currPosition.loc[player]['variance']\n",
    "        playerCost = currPosition.loc[player]['cost']\n",
    "        position = currPosition.loc[player]['position']\n",
    "        bigDict[player] = [returnPlayer, playerVariance, playerCost , position]\n",
    "         \n",
    "player, returnPlayer, playerVariance, playerCost , position = gp.multidict(bigDict)\n",
    "\n",
    "\n",
    "positionPlayerConstraintVars = gp.tuplelist( [(position.select(playr)[0],playr) for playr in player])\n",
    "\n",
    "playerDecisionVars = gp.tuplelist( [ (choice, returnPlayer.select(choice)[0], playerVariance.select(choice)[0])  for choice in player ] )\n",
    "\n",
    "positionConstraints = gp.tupledict( { 'QB':1, \"RB\":3,\"WR\":3, 'TE':1,\"DEF\":1})#'K':0} )\n",
    "\n",
    "\n"
   ]
  },
  {
   "cell_type": "code",
   "execution_count": 60,
   "metadata": {},
   "outputs": [
    {
     "data": {
      "text/plain": [
       "{'QB': 1, 'RB': 3, 'WR': 3, 'TE': 1, 'DEF': 1}"
      ]
     },
     "execution_count": 60,
     "metadata": {},
     "output_type": "execute_result"
    }
   ],
   "source": [
    "positionPlayerConstraintVars\n",
    "\n",
    "\n",
    "\n",
    "# Constraints: assign exactly shiftRequirements[s] workers to each shift s\n",
    "\n",
    "# reqCts = {}\n",
    "# for s in shifts:\n",
    "#   reqCts[s] = m.addConstr(\n",
    "#        gp.quicksum(x[w,s] for w,s in availability.select('*', s)) ==\n",
    "#        shiftRequirements[s], s)\n",
    "positionConstraints"
   ]
  },
  {
   "cell_type": "code",
   "execution_count": 70,
   "metadata": {},
   "outputs": [
    {
     "name": "stdout",
     "output_type": "stream",
     "text": [
      "Gurobi Optimizer version 9.0.0 build v9.0.0rc2 (linux64)\n",
      "Optimize a model with 6 rows, 478 columns and 956 nonzeros\n",
      "Model fingerprint: 0xf093b841\n",
      "Variable types: 0 continuous, 478 integer (478 binary)\n",
      "Coefficient statistics:\n",
      "  Matrix range     [1e+00, 9e+03]\n",
      "  Objective range  [4e-14, 4e+02]\n",
      "  Bounds range     [1e+00, 1e+00]\n",
      "  RHS range        [1e+00, 5e+04]\n",
      "Presolve removed 1 rows and 173 columns\n",
      "Presolve time: 0.00s\n",
      "Presolved: 5 rows, 305 columns, 601 nonzeros\n",
      "Variable types: 0 continuous, 305 integer (305 binary)\n",
      "Found heuristic solution: objective 8.6657800\n",
      "Found heuristic solution: objective -13.2332400\n",
      "\n",
      "Root relaxation: objective -1.392026e+01, 5 iterations, 0.00 seconds\n",
      "\n",
      "    Nodes    |    Current Node    |     Objective Bounds      |     Work\n",
      " Expl Unexpl |  Obj  Depth IntInf | Incumbent    BestBd   Gap | It/Node Time\n",
      "\n",
      "     0     0  -13.92026    0    2  -13.23324  -13.92026  5.19%     -    0s\n",
      "H    0     0                     -13.6255733  -13.92026  2.16%     -    0s\n",
      "     0     0  -13.70132    0    2  -13.62557  -13.70132  0.56%     -    0s\n",
      "\n",
      "Cutting planes:\n",
      "  StrongCG: 1\n",
      "\n",
      "Explored 1 nodes (6 simplex iterations) in 0.05 seconds\n",
      "Thread count was 4 (of 4 available processors)\n",
      "\n",
      "Solution count 3: -13.6256 -13.2332 8.66578 \n",
      "No other solutions better than -13.6256\n",
      "\n",
      "Optimal solution found (tolerance 1.00e-04)\n",
      "Best objective -1.362557333333e+01, best bound -1.362557333333e+01, gap 0.0000%\n",
      "['Carolina', 'devanteparker/2552409', 'dontemoncrief/2543614', 'zayjones/2557863', 'alexarmah/2558833', 'elijhaapenny/2556762', 'kylejuszczyk/2540230', 'bakermayfield/2560800', 'j.p.holtz/2556852']\n",
      "valid roster, cost = 49000.0\n",
      "\n",
      " expected return - risk : -13.62557333333294\n"
     ]
    }
   ],
   "source": [
    "try:\n",
    "    m = gp.Model('QMIP')\n",
    "    #add binary decision variables on whether \n",
    "    \n",
    "    \n",
    "    #add decision variables\n",
    "    players = m.addVars( playerDecisionVars, vtype=GRB.BINARY, name='players') \n",
    "    \n",
    "    \n",
    "    \n",
    "    #add position constraint. We set upper bound to be one and keep the constraint a continuous variable since the \n",
    "    #model will keep integer solutions\n",
    "    \n",
    "    #positionConstratint = m.addVars(positionConstraints, ub =1 , name='positionConstr')\n",
    "    \n",
    "    \n",
    "    # set objective funcition\n",
    "    m.setObjective(  - gp.quicksum( returnPlayer[choice] *players[choice,retrn,var] for choice, retrn, var in players ) \n",
    "                   + gp.quicksum( playerVariance[choice] *players[choice,retrn,var] for choice, retrn, var in players ) \n",
    "                   ,GRB.MINIMIZE)\n",
    "    \n",
    "    #constraint: sum of each position must be a constraint:\n",
    "    #for pos in DF['position'].unique():\n",
    "        \n",
    "        \n",
    "    posConstrs = {} \n",
    "    for pos in DF['position'].unique():\n",
    "        players_in_pos = [playr for playr in player if position[playr] == pos]\n",
    "        \n",
    "        posConstrs[pos] = m.addConstr( gp.quicksum( [ players.select(playr)[0] for playr in player if position[playr] == pos ] ) == positionConstraints[pos] )\n",
    "        \n",
    "  #  modelPositionConstr =  m.addConstrs(  players.sum(position[choice] ) ==  positionConstraints [ position[choice] ] for choice ,_,_ in players  ) \n",
    "    \n",
    "    #salary constraint\n",
    "    costConstr = m.addConstr(gp.quicksum( [ playerCost[playr] *players.select(playr)[0] for playr in player ]) <= 50000 )\n",
    "    \n",
    "    \n",
    "    m.update()\n",
    "    \n",
    "    m.optimize()\n",
    "    \n",
    "    findPlayers = m.X\n",
    "    \n",
    "    \n",
    "    teamRoster = [ player[i] for i in range(len(player)) if findPlayers[i]==1 ]\n",
    "    print(teamRoster)\n",
    "    \n",
    "    sum = 0\n",
    "    for i in teamRoster:\n",
    "        sum += playerCost[i] \n",
    "    sum \n",
    "\n",
    "\n",
    "    constr = { 'QB':1, \"RB\":3,\"WR\":3, 'TE':1,\"DEF\":1} \n",
    "\n",
    "    for pos in DF['position'].unique():\n",
    "        for i in teamRoster:\n",
    "            if position[i] == pos:\n",
    "                constr[pos] -= 1\n",
    "    for key,value in constr.items():\n",
    "        if value != 0:\n",
    "            print('failure to meet pos constraint:',key)\n",
    "    print('valid roster, cost =',sum)    \n",
    "    \n",
    "    print('\\n expected return - risk :',m.objVal)\n",
    "\n",
    "except gp.GurobiError as e:\n",
    "    print('Error code ' + str(e.errno) + \": \" + str(e))"
   ]
  },
  {
   "cell_type": "code",
   "execution_count": null,
   "metadata": {},
   "outputs": [],
   "source": [
    "\n",
    "\n"
   ]
  },
  {
   "cell_type": "code",
   "execution_count": 62,
   "metadata": {},
   "outputs": [
    {
     "data": {
      "text/plain": [
       "1"
      ]
     },
     "execution_count": 62,
     "metadata": {},
     "output_type": "execute_result"
    }
   ],
   "source": [
    "positionConstraints[position['Arizona']]"
   ]
  },
  {
   "cell_type": "code",
   "execution_count": 63,
   "metadata": {},
   "outputs": [
    {
     "data": {
      "text/plain": [
       "[<gurobi.Var players[Arizona,2.7,0.7499999999998916] (value 0.0)>,\n",
       " <gurobi.Var players[Atlanta,1.3,0.9999999999999832] (value -0.0)>,\n",
       " <gurobi.Var players[Baltimore,5.6,0.7999999999998987] (value 0.0)>,\n",
       " <gurobi.Var players[Buffalo,12.2,1.8000000000000256] (value 0.0)>,\n",
       " <gurobi.Var players[Carolina,13.2,1.0000000000000502] (value 1.0)>,\n",
       " <gurobi.Var players[Chicago,5.4,1.8000000000000205] (value 0.0)>,\n",
       " <gurobi.Var players[Cincinnati,3.6,1.449999999999958] (value -0.0)>,\n",
       " <gurobi.Var players[Cleveland,6.0,1.0000000000000804] (value 0.0)>,\n",
       " <gurobi.Var players[Dallas,6.6,0.7999999999998321] (value 0.0)>,\n",
       " <gurobi.Var players[Denver,4.6,1.4500000000000524] (value 0.0)>,\n",
       " <gurobi.Var players[Detroit,8.4,1.3000000000000878] (value 0.0)>,\n",
       " <gurobi.Var players[Green Bay,8.7,1.3999999999999209] (value 0.0)>,\n",
       " <gurobi.Var players[Houston,7.9,1.4000000000000123] (value 0.0)>,\n",
       " <gurobi.Var players[Indianapolis,7.4,0.7000000000000279] (value -0.0)>,\n",
       " <gurobi.Var players[Jacksonville,8.8,2.7500000000000018] (value 0.0)>,\n",
       " <gurobi.Var players[Kansas City,6.2,1.7499999999999478] (value 0.0)>,\n",
       " <gurobi.Var players[LA Chargers,6.9,1.5000000000000142] (value 0.0)>,\n",
       " <gurobi.Var players[LA Rams,9.4,1.6500000000000346] (value 0.0)>,\n",
       " <gurobi.Var players[Miami,2.2,0.800000000000012] (value 0.0)>,\n",
       " <gurobi.Var players[Minnesota,8.6,0.9999999999999524] (value 0.0)>,\n",
       " <gurobi.Var players[New England,5.4,125.44999999999996] (value 0.0)>,\n",
       " <gurobi.Var players[New Orleans,11.0,2.699999999999999] (value -0.0)>,\n",
       " <gurobi.Var players[New York G,8.0,2.9500000000000077] (value 0.0)>,\n",
       " <gurobi.Var players[New York J,4.6,0.30000000000002125] (value 0.0)>,\n",
       " <gurobi.Var players[Oakland,4.4,0.8000000000000163] (value 0.0)>,\n",
       " <gurobi.Var players[Philadelphia,5.4,2.2500000000000075] (value 0.0)>,\n",
       " <gurobi.Var players[Pittsburgh,12.0,1.5000000000000149] (value 0.0)>,\n",
       " <gurobi.Var players[San Francisco,9.3,12.450000000000086] (value 0.0)>,\n",
       " <gurobi.Var players[Seattle,6.9,1.2500000000000324] (value 0.0)>,\n",
       " <gurobi.Var players[Tampa Bay,9.6,1.3000000000000198] (value 0.0)>,\n",
       " <gurobi.Var players[Tennessee,8.5,1.0000000000000044] (value 0.0)>,\n",
       " <gurobi.Var players[Washington,7.1,0.9500000000000092] (value 0.0)>]"
      ]
     },
     "execution_count": 63,
     "metadata": {},
     "output_type": "execute_result"
    }
   ],
   "source": [
    "[players.select(playr)[0] for playr in player if position[playr] == 'DEF']"
   ]
  },
  {
   "cell_type": "code",
   "execution_count": 64,
   "metadata": {},
   "outputs": [
    {
     "data": {
      "text/plain": [
       "<gurobi.TempConstr: <gurobi.LinExpr: 4550.0 players[Arizona,2.7,0.7499999999998916] + 3850.0 players[Atlanta,1.3,0.9999999999999832] + 5000.0 players[Baltimore,5.6,0.7999999999998987] + 5000.0 players[Buffalo,12.2,1.8000000000000256] + 4700.0 players[Carolina,13.2,1.0000000000000502] + 4500.0 players[Chicago,5.4,1.8000000000000205] + 4300.0 players[Cincinnati,3.6,1.449999999999958] + 5000.0 players[Cleveland,6.0,1.0000000000000804] + 4900.0 players[Dallas,6.6,0.7999999999998321] + 4600.0 players[Denver,4.6,1.4500000000000524] + 4800.0 players[Detroit,8.4,1.3000000000000878] + 4700.0 players[Green Bay,8.7,1.3999999999999209] + 4650.0 players[Houston,7.9,1.4000000000000123] + 4500.0 players[Indianapolis,7.4,0.7000000000000279] + 4750.0 players[Jacksonville,8.8,2.7500000000000018] + 4700.0 players[Kansas City,6.2,1.7499999999999478] + 4850.0 players[LA Chargers,6.9,1.5000000000000142] + 5000.0 players[LA Rams,9.4,1.6500000000000346] + 4500.0 players[Miami,2.2,0.800000000000012] + 4650.0 players[Minnesota,8.6,0.9999999999999524] + 5000.0 players[New England,5.4,125.44999999999996] + 4650.0 players[New Orleans,11.0,2.699999999999999] + 4800.0 players[New York G,8.0,2.9500000000000077] + 4500.0 players[New York J,4.6,0.30000000000002125] + 4600.0 players[Oakland,4.4,0.8000000000000163] + 4600.0 players[Philadelphia,5.4,2.2500000000000075] + 4800.0 players[Pittsburgh,12.0,1.5000000000000149] + 4750.0 players[San Francisco,9.3,12.450000000000086] + 4900.0 players[Seattle,6.9,1.2500000000000324] + 4700.0 players[Tampa Bay,9.6,1.3000000000000198] + 4750.0 players[Tennessee,8.5,1.0000000000000044] + 4700.0 players[Washington,7.1,0.9500000000000092] + 5100.0 players[a.j.brown/2562238,7.619999999999999,83.35200000000006] + 5200.0 players[adamhumphries/2553895,2.4,9.595000000000258] + 7000.0 players[adamthielen/2541785,7.92,120.13700000000004] + 6200.0 players[albertwilson/2550272,8.66,50.31499999999998] + 6600.0 players[alexerickson/2556519,9.8,147.4800000000001] + 4700.0 players[allenhurns/2550353,5.1000000000000005,21.408000000000037] + 6300.0 players[allenlazard/2560787,3.96,15.165000000000038] + 7200.0 players[allenrobinson/2543509,3.24,16.733000000000047] + 6700.0 players[alshonjeffery/2533039,8.87,55.57900000000009] + 7950.0 players[amaricooper/2552487,10.18,35.704000000000164] + 4500.0 players[andrepatton/2559227,2.5,12.59000000000005] + 6000.0 players[andreroberts/497320,3.74,17.653000000000038] + 5500.0 players[andyisabella/2562669,5.080000000000001,13.054000000000126] + 6600.0 players[anthonymiller/2560810,6.500000000000003,51.50000000000011] + 7800.0 players[antoniobrown/2508061,2.82,39.76200000000017] + 5000.0 players[audentate/2560890,3.3600000000000003,22.148000000000167] + 5400.0 players[austincarr/2558928,2.29,10.620000000000026] + 5600.0 players[benniefowler/2550198,5.17,20.257500000000086] + 7200.0 players[bobowilson/2559013,8.6,31.205000000000172] + 7100.0 players[brandincooks/2543498,4.79,38.4310000000001] + 7000.0 players[braxtonberrios/2560975,4.999999999999999,20.63500000000016] + 5500.0 players[breshadperriman/2552597,3.64,26.613000000000238] + 5000.0 players[byronpringle/2560844,0.36,0.6480000000003003] + 6500.0 players[calvinridley/2560854,9.989999999999998,56.76250000000001] + 6100.0 players[chesterrogers/2556396,3.0180000000000002,29.490620000000163] + 5100.0 players[chrisconley/2552652,3.03,15.457000000000123] + 7700.0 players[chrisgodwin/2558105,6.32,85.66500000000012] + 5000.0 players[chrishogan/2530515,0.6900000000000001,0.6535000000002944] + 6600.0 players[chrislacy/2560783,7.52,156.73700000000017] + 5100.0 players[chrismoore/2555209,4.0200000000000005,27.302000000000238] + 5600.0 players[christiankirk/2560781,7.24,30.26300000000009] + 5300.0 players[codycore/2555331,1.55,10.093000000000169] + 6050.0 players[codylatimer/2543590,4.98,13.245000000000115] + 5500.0 players[colebeasley/2535698,5.16,13.207000000000134] + 6900.0 players[cooperkupp/2557898,11.15,127.16399999999996] + 6300.0 players[cordarrellepatterson/2540145,9.5,55.24500000000018] + 6200.0 players[coreydavis/2557848,6.0,47.90300000000004] + 6300.0 players[courtlandsutton/2560888,6.76,67.24699999999999] + 5800.0 players[curtissamuel/2558066,5.5600000000000005,28.363000000000216] + 6000.0 players[d.j.chark/2561018,10.77,78.38600000000008] + 6500.0 players[d.j.moore/2560813,4.97,29.887500000000035] + 6750.0 players[d.k.metcalf/2562685,10.61,45.666500000000184] + 8100.0 players[daeseanhamilton/2561002,6.26,48.967000000000155] + 5900.0 players[damierebyrd/2553499,8.3,144.33200000000016] + 4800.0 players[damionratley/2561054,3.61,5.73000000000005] + 7800.0 players[damionwillis/2563238,9.84,91.94] + 5200.0 players[dannyamendola/2649,9.62,60.405000000000136] + 5600.0 players[dantepettis/2560836,4.708,50.19832000000015] + 5000.0 players[dariusjennings/2553896,5.26,58.43300000000014] + 5200.0 players[dariusslayton/2562736,10.16,48.91300000000002] + 4500.0 players[darriusshepherd/2563128,3.24,42.80300000000013] + 8700.0 players[davanteadams/2543495,4.48,13.62700000000012] + 8500.0 players[davidmoore/2558856,5.4,34.478000000000165] + 4500.0 players[de'anthonythomas/2543638,0.78,0.5670000000000704] + 6850.0 players[deandrecarter/2553502,0.38,0.4540000000001154] + 8900.0 players[deandrehopkins/2540165,4.88,50.925000000000175] + 5900.0 players[dedewestbrook/2557895,8.67,21.581500000000162] + 8100.0 players[deebosamuel/2562721,10.78,55.697000000000116] + 6700.0 players[demarcusrobinson/2555478,13.739999999999998,124.32300000000008] + 7100.0 players[demaryiusthomas/497328,8.32,19.602000000000103] + 5800.0 players[deoncain/2560987,4.29,20.86100000000013] + 5400.0 players[deonteharris/2563155,4.76,15.160000000000172] + 6600.0 players[deseanjackson/1581,8.120000000000001,147.25700000000015] + 7200.0 players[devanteparker/2552409,10.3,8.572000000000159] + 5600.0 players[devinfunchess/2552458,6.22,17.2070000000001] + 4500.0 players[devinsmith/2553434,4.14,39.563000000000116] + 6100.0 players[diontaejohnson/2562674,8.58,44.847000000000136] + 6500.0 players[diontaespencer/2550734,6.8599999999999985,63.95700000000002] + 5000.0 players[dontemoncrief/2543614,1.12,0.4870000000002864] + 7800.0 players[dontrelleinman/2530700,9.91,48.343500000000134] + 4500.0 players[dukewilliams/2556836,4.7799999999999985,21.55200000000023] + 6500.0 players[dwayneharris/2495159,5.5,39.325] + 5600.0 players[emmanuelsanders/497322,4.2,53.83300000000004] + 5400.0 players[fredbrown/2559396,3.16,50.9350000000001] + 5400.0 players[geremydavis/2552654,3.93,13.070000000000114] + 7100.0 players[geronimoallison/2556460,8.43,137.55950000000007] + 6100.0 players[goldentate/497326,5.908,62.77432000000015] + 6400.0 players[gunnerolszewski/2563329,1.38,2.7740000000000578] + 7700.0 players[hunterrenfrow/2562712,10.599999999999998,76.28] + 5600.0 players[isaiahford/2558071,8.440000000000001,144.01300000000006] + 4700.0 players[isaiahmckenzie/2558129,2.8,23.388000000000037] + 8100.0 players[j.j.nelson/2552656,9.3,69.91500000000013] + 4500.0 players[jakeemgrant/2556190,2.06,5.858000000000062] + 6000.0 players[jakekumerow/2553548,8.45,47.02299999999998] + 6100.0 players[jakobimeyers/2562492,3.28,27.855000000000164] + 6900.0 players[jamisoncrowder/2552415,5.86,15.443000000000026] + 7550.0 players[jariuswright/2532978,12.54,84.79000000000019] + 7300.0 players[jaronbrown/2541966,7.229999999999999,30.218000000000142] + 6450.0 players[jarvislandry/2543488,8.8,26.59699999999999] + 6000.0 players[jasonmoore/2562860,6.4,30.78700000000019] + 5000.0 players[javonwims/2560939,5.8599999999999985,66.06300000000014] + 6300.0 players[johnbrown/2543847,6.5,94.62000000000015] + 6000.0 players[johnnyholton/2556805,3.4400000000000004,31.008000000000248] + 6800.0 players[johnross/2558010,13.44,143.97800000000018] + 7400.0 players[jojonatson/2558905,3.07,11.157000000000146] + 5400.0 players[joshbellamy/2535964,4.84,20.848000000000173] + 6300.0 players[joshgordon/2537931,1.8,7.355000000000055] + 5500.0 players[joshreynolds/2558194,2.26,8.228000000000051] + 7200.0 players[jujusmith-schuster/2558149,4.9,10.890000000000033] + 7100.0 players[julianedelman/238498,9.24,28.676000000000176] + 8500.0 players[juliojones/2495454,8.82,65.40900000000013] + 5100.0 players[justinhardy/2552418,3.120000000000001,23.695000000000054] + 6300.0 players[justinwatson/2560051,3.1499999999999995,28.987000000000094] + 5100.0 players[keelancole/2559153,2.79,6.356000000000204] + 7100.0 players[keelandoss/2562393,7.7200000000000015,26.532000000000107] + 8100.0 players[keenanallen/2540154,5.030000000000001,36.39550000000013] + 6600.0 players[keeseanjohnson/2562677,2.14,6.5300000000002445] + 5200.0 players[kekecoutee/2561029,8.989999999999998,67.86100000000002] + 4700.0 players[kelvinharmon/2562577,1.64,2.9575000000000258] + 4850.0 players[kendrickbourne/2558914,1.36,6.551000000000062] + 6950.0 players[kennygolladay/2558052,12.64,135.6830000000001] + 6800.0 players[kennystills/2540202,12.14,84.10500000000006] + 7200.0 players[khadarelhodge/2561653,2.84,11.816000000000047] + 4600.0 players[laquontreadwell/2555214,0.72,0.527000000000058] + 8100.0 players[larryfitzgerald/2506106,9.18,8.757000000000136] + 8500.0 players[lil'jordanhumphrey/2562668,11.080000000000002,75.98700000000011] + 4800.0 players[mackhollins/2558262,1.5,11.250000000000057] + 4600.0 players[malikturner/2561671,1.6800000000000002,9.056000000000052] + 5000.0 players[marqiselee/2543475,2.42,14.719000000000053] + 6100.0 players[marquezvaldes-scantling/2560907,4.78,40.7620000000001] + 7100.0 players[marquisebrown/2562379,12.12,155.039] + 5600.0 players[marquisegoodwin/2539964,6.74,74.56800000000001] + 7800.0 players[marvinjones/2532884,6.33,56.657500000000155] + 5000.0 players[matthewslater/4487,0.22000000000000006,0.2420000000001892] + 6500.0 players[mecolehardman/2562580,4.5,34.82200000000001] + 5500.0 players[michaelcrabtree/71269,6.459999999999999,30.5630000000002] + 6500.0 players[michaelgallup/2560735,8.069999999999999,13.3445] + 8050.0 players[michaelthomas/2556370,6.36,45.25100000000017] + 7500.0 players[mikeevans/2543468,13.41,182.7505] + 4650.0 players[mikethomas/2556381,0.0,1.1401990462900358e-13] + 7500.0 players[mikewilliams/2558846,12.98,201.157] + 4900.0 players[milesboykin/2562631,3.54,8.728000000000224] + 5600.0 players[mohamedsanu/2533040,7.0600000000000005,14.845000000000189] + 5100.0 players[nelsonagholor/2552600,7.309999999999999,58.57250000000013] + 5000.0 players[parriscampbell/2562495,1.7800000000000002,10.904000000000057] + 4900.0 players[paulrichardson/2543491,2.35,4.640000000000269] + 4500.0 players[pharohcooper/2555419,2.68,6.287000000000058] + 7900.0 players[phillipdorsett/2552424,6.709999999999999,30.377500000000104] + 6600.0 players[prestonwilliams/2562805,7.8,28.84000000000019] + 5500.0 players[randallcobb/2495448,4.8,13.075000000000124] + 4500.0 players[ray-raymccloud/2560801,1.15,1.660500000000054] + 5900.0 players[richiejames/2560761,4.23,22.86500000000009] + 6200.0 players[robbyanderson/2556462,7.439999999999999,58.62799999999999] + 6300.0 players[robertdavis/2558254,3.8,11.635000000000039] + 5700.0 players[robertfoster/2560729,0.7,2.4500000000000965] + 7650.0 players[robertwoods/2540169,9.88,34.91900000000016] + 5700.0 players[russellgage/2561061,5.030000000000001,51.50700000000005] + 7500.0 players[russellshepard/2541944,6.44,29.203000000000127] + 5600.0 players[ryanswitzer/2557960,6.8,73.57500000000002] + 7400.0 players[sammywatkins/2543457,11.36,146.19000000000014] + 5400.0 players[scottmiller/2562865,7.719999999999999,92.59200000000007] + 4500.0 players[sethroberts/2550597,1.0,0.5270000000000579] + 4800.0 players[stanleymorgan/2562504,2.2,12.515000000000056] + 6100.0 players[stefondiggs/2552608,4.5,26.12000000000017] + 6300.0 players[sterlingshepard/2555295,5.24,8.32300000000003] + 7700.0 players[t.y.hilton/2532865,18.5,76.87999999999998] + 7200.0 players[tajaesharpe/2555317,0.24,0.28800000000006604] + 7700.0 players[tavonaustin/2539336,15.3,69.16] + 7000.0 players[taylorgabriel/2550617,6.959999999999999,82.39100000000015] + 5300.0 players[taywantaylor/2557870,2.05,9.720500000000165] + 8700.0 players[terrymclaurin/2562489,10.7,101.65800000000021] + 6600.0 players[timpatrick/2558985,7.76,47.65300000000018] + 5400.0 players[travisbenjamin/2532790,7.539999999999999,95.82300000000005] + 4800.0 players[trentsherfield/2561272,3.06,6.283000000000099] + 8900.0 players[trevordavis/2555413,9.16,75.49100000000017] + 7100.0 players[treyquinn/2560847,10.09,89.16249999999997] + 6900.0 players[tylerboyd/2555466,4.76,21.038000000000025] + 6700.0 players[tylerlockett/2552430,9.44,14.875000000000167] + 7900.0 players[tyreekhill/2556214,7.5,22.220000000000105] + 6200.0 players[tyrellwilliams/2553913,4.3,34.73000000000012] + 6000.0 players[vyncintsmith/2561427,9.86,47.02299999999998] + 6150.0 players[willfuller/2555346,5.370000000000001,9.710000000000026] + 8100.0 players[williesnead/2550256,9.98,44.65700000000013] + 8100.0 players[zachpascal/2558877,8.4,84.76500000000013] + 5000.0 players[zayjones/2557863,2.0200000000000005,1.1130000000000244] + 6800.0 players[aaronjones/2558116,6.6,208.4830000000001] + 5500.0 players[adrianpeterson/2507164,3.5200000000000005,39.77199999999983] + 6500.0 players[alecingold/2562288,9.62,112.15699999999993] + 5500.0 players[alexandermattison/2562682,8.74,202.00799999999995] + 4500.0 players[alexarmah/2558833,0.6416666666666667,0.4033333333333334] + 8000.0 players[alvinkamara/2558019,8.6,182.825] + 4800.0 players[ameerabdullah/2552374,3.44,26.527999999999924] + 4900.0 players[andyjanovich/2555432,2.68,10.014999999999961] + 6700.0 players[anthonysherman/2495340,8.28,87.11700000000003] + 8100.0 players[austinekeler/2559169,11.66,147.3789999999999] + 6600.0 players[bennysnell/2562743,5.5600000000000005,26.09299999999993] + 4500.0 players[bilalpowell/2495328,0.08,0.03199999999987434] + 6100.0 players[bostonscott/2561146,4.62,4.014999999999971] + 6600.0 players[brandonbolden/2532797,11.76,86.27799999999999] + 5100.0 players[brianhill/2558112,2.08,4.176999999999913] + 4750.0 players[buddyhowell/2561344,0.06,0.035999999999950384] + 5600.0 players[c.j.anderson/2540269,7.040000000000001,81.46299999999997] + 5400.0 players[c.j.ham/2556803,5.9,34.582999999999984] + 5400.0 players[c.j.prosise/2555417,4.3,6.184999999999974] + 7350.0 players[carloshyde/2543743,9.669999999999998,27.647500000000075] + 5600.0 players[chandlercox/2562959,6.58,166.01199999999994] + 6200.0 players[chaseedmonds/2560711,8.540000000000001,25.987999999999968] + 7400.0 players[chriscarson/2558865,9.01,48.32899999999998] + 6000.0 players[christhompson/2540011,9.06,10.514999999999935] + 8950.0 players[christianmccaffrey/2557997,19.18,83.16499999999998] + 5300.0 players[coreyclement/2559150,2.8,12.884999999999962] + 5350.0 players[cullengillaspia/2562906,2.45,16.954999999999906] + 5300.0 players[d'ernestjohnson/2563327,2.45,7.394499999999907] + 5650.0 players[d.j.foster/2556528,3.17,10.65399999999982] + 8300.0 players[dalvincook/2557991,8.080000000000002,112.69200000000001] + 5800.0 players[dalyndawkins/2561524,9.62,79.75699999999995] + 5500.0 players[damienharris/2562281,11.1,202.535] + 6600.0 players[damienwilliams/2550512,7.020000000000001,24.50499999999995] + 4750.0 players[dareogunbowale/2559362,0.34,0.38599999999990176] + 6300.0 players[darrellhenderson/2562574,2.78,10.56700000000002] + 5500.0 players[darrelwilliams/2560935,4.3,51.90200000000005] + 6200.0 players[darrensproles/2506467,12.28,180.292] + 8000.0 players[darwinthompson/2562832,10.2,178.285] + 5000.0 players[davidfluellen/2550289,1.06,8.625999999999888] + 7300.0 players[davidjohnson/2553435,9.88,36.69699999999994] + 6000.0 players[davidmontgomery/2562502,4.82,34.54299999999993] + 9200.0 players[deandrewashington/2555464,10.3,91.875] + 7500.0 players[derekwatt/2555220,9.59,97.83349999999996] + 7000.0 players[derrickhenry/2556075,9.94,123.838] + 7300.0 players[derriusguice/2561000,15.779999999999998,174.30200000000008] + 6100.0 players[devinsingletary/2562734,6.84,22.310999999999947] + 4500.0 players[devontaebooker/2555223,0.0,0.0] + 6700.0 players[devontafreeman/2543583,6.0600000000000005,26.197999999999965] + 5700.0 players[dionlewis/2495469,7.1,30.11999999999988] + 5300.0 players[dontrellhilliard/2561461,4.16,28.27299999999993] + 5400.0 players[dukejohnson/2552461,1.7799999999999998,4.435] + 4500.0 players[dwaynewashington/2556118,0.55,0.6050000000000001] + 4500.0 players[elijhaapenny/2556762,0.16999999999999998,0.036499999999875465] + 8500.0 players[ezekielelliott/2555224,7.13,92.39899999999994] + 5300.0 players[frankgore/2506404,5.040000000000001,44.55799999999992] + 8500.0 players[giovanibernard/2540156,10.76,94.405] + 5600.0 players[gusedwards/2561324,4.26,9.786999999999924] + 5400.0 players[itosmith/2559924,1.84,10.3899999999999] + 6850.0 players[j.d.mckissic/2556440,3.57,9.459999999999985] + 4500.0 players[jakobjohnson/2562890,0.64,0.7479999999998801] + 5100.0 players[jalenrichard/2556885,1.86,4.176999999999913] + 7100.0 players[jamaalwilliams/2558204,8.6,37.14000000000007] + 6600.0 players[jamesconner/2557978,7.419999999999999,140.9719999999999] + 9000.0 players[jamesdevelin/2508101,6.02,163.72699999999983] + 6300.0 players[jameswhite/2543773,9.31,15.32699999999998] + 7400.0 players[jamizeolawale/2536044,6.800000000000002,65.76299999999989] + 7300.0 players[javoriusallen/2552631,12.22,219.69200000000006] + 7800.0 players[joemixon/2557976,4.67,44.958499999999965] + 6700.0 players[johnkelly/2560777,11.06,99.323] + 6200.0 players[jordanhoward/2555418,2.76,5.345999999999812] + 4500.0 players[jordanscarlett/2562725,0.7200000000000001,1.2119999999997957] + 4600.0 players[jordanwilkins/2560933,0.91,8.280999999999953] + 7500.0 players[joshjacobs/2562377,8.959999999999997,52.10699999999995] + 7300.0 players[justicehill/2562407,6.840000000000002,28.094999999999995] + 6100.0 players[justinjackson/2560756,1.58,8.866999999999894] + 5100.0 players[kalenballage/2560967,3.4799999999999995,3.602999999999917] + 5300.0 players[keithsmith/2550400,1.12,2.4989999999998838] + 9000.0 players[kenjonbarner/2539289,12.26,200.8029999999999] + 5900.0 players[kenyandrake/2555230,6.93,13.23399999999998] + 7300.0 players[kerryonjohnson/2560765,14.86,193.5360000000001] + 5600.0 players[kylejuszczyk/2540230,3.8400000000000007,3.1929999999999183] + 7100.0 players[lataviusmurray/2541161,7.2200000000000015,124.11399999999998] + 8000.0 players[le'veonbell/2540175,13.94,43.78300000000004] + 7350.0 players[leonardfournette/2557973,14.03,51.65399999999998] + 6300.0 players[leseanmccoy/79607,4.18,44.42699999999989] + 6600.0 players[malcolmbrown/2552382,9.12,158.67699999999996] + 7500.0 players[markingram/2495466,9.0,78.50699999999993] + 5100.0 players[markwalton/2560915,2.9000000000000004,8.509999999999959] + 7150.0 players[marlonmack/2558123,9.989999999999998,119.25850000000008] + 6000.0 players[mattbreida/2558918,6.089999999999999,37.77999999999993] + 8000.0 players[melvingordon/2552469,10.11,170.31099999999995] + 5300.0 players[michaelburton/2552636,2.42,7.566999999999906] + 5000.0 players[mikeboone/2561099,0.4,0.379999999999902] + 6200.0 players[mikedavis/2553439,5.94,28.017999999999947] + 6300.0 players[milessanders/2562722,5.9,42.60299999999992] + 6300.0 players[nickbawden/2560972,5.94,41.53499999999988] + 4700.0 players[nickbellore/2495262,0.59,1.780999999999774] + 7300.0 players[nickchubb/2561021,9.27,142.67250000000004] + 5300.0 players[nyheimhines/2560742,2.35,12.412499999999902] + 7000.0 players[patrickdimarco/2530763,9.829999999999998,122.429] + 5000.0 players[patrickricard/2558990,4.24,23.682999999999925] + 5650.0 players[peytonbarber/2556466,6.5600000000000005,26.346] + 7400.0 players[philliplindsay/2559947,13.12,86.84500000000007] + 5600.0 players[raheemmostert/2553728,7.1400000000000015,79.47599999999996] + 8000.0 players[rashaadpenny/2560835,15.05,38.33200000000005] + 5700.0 players[reggiebonnafon/2561184,5.26,38.04499999999993] + 6100.0 players[rexburkhead/2539265,3.22,14.388999999999914] + 5550.0 players[ronaldjones/2560770,2.57,16.30399999999991] + 5900.0 players[roycefreeman/2560733,4.7,15.024999999999972] + 5800.0 players[ryquellarmstead/2562622,7.16,84.59099999999995] + 5200.0 players[samajeperine/2558138,1.58,4.12399999999991] + 9200.0 players[saquonbarkley/2560968,9.75,56.89699999999999] + 6800.0 players[sonymichel/2560809,7.960000000000001,55.265999999999906] + 4500.0 players[t.j.logan/2558273,0.0,0.0] + 4600.0 players[t.j.yeldon/2552471,1.96,11.342999999999956] + 5100.0 players[taiwanjones/2495467,2.14,21.337999999999923] + 8300.0 players[tarikcohen/2558250,14.139999999999995,127.95500000000006] + 6200.0 players[tevincoleman/2552453,6.24,12.297999999999945] + 7600.0 players[toddgurley/2552475,7.129999999999999,32.301000000000045] + 5700.0 players[tonypollard/2562699,6.5,11.34299999999998] + 7900.0 players[tracarson/2556493,15.720000000000002,66.83199999999998] + 4750.0 players[travishomer/2562665,0.41,0.7324999999998763] + 5700.0 players[trentoncannon/2561137,6.48,23.18699999999993] + 4500.0 players[treyedmunds/2559325,2.56,24.6229999999999] + 5500.0 players[troymainepope/2557531,5.74,60.82299999999997] + 4650.0 players[tyjohnson/2562293,2.42,13.369999999999905] + 6800.0 players[tylerervin/2555234,5.94,40.621999999999964] + 6600.0 players[tymontgomery/2552429,5.32,28.991999999999923] + 5350.0 players[waynegallman/2557952,4.08,30.088999999999913] + 6800.0 players[wendellsmallwood/2555461,10.32,393.86600000000016] + 5600.0 players[zachline/2539303,5.66,91.92599999999996] + 5700.0 players[zachzenner/2553631,6.840000000000002,29.49299999999995] + 8200.0 players[aaronrodgers/2506363,15.582,39.464200000000076] + 7100.0 players[andydalton/2495143,15.47,48.056500000000106] + 8000.0 players[bakermayfield/2560800,14.966,19.62426000000007] + 8400.0 players[blakebortles/2543477,16.223999999999997,102.72528000000004] + 7700.0 players[carsonwentz/2555259,15.546,43.353000000000094] + 7600.0 players[casekeenum/2532888,9.274,156.61765999999992] + 7700.0 players[chasedaniel/81284,14.772,72.7763200000001] + 7850.0 players[dakprescott/2555260,13.444,218.39588000000003] + 7300.0 players[danieljones/2562299,11.323999999999998,207.24555999999995] + 6800.0 players[derekcarr/2543499,12.36,39.67628000000003] + 8400.0 players[deshaunwatson/2558063,23.613000000000003,58.92044000000003] + 6900.0 players[devlinhodges/2563258,18.196,56.21488000000014] + 7300.0 players[dwaynehaskins/2562660,14.496,134.07240000000004] + 7700.0 players[elimanning/2505996,15.628,28.27172000000011] + 6700.0 players[gardnerminshew/2562796,9.696,60.28064000000007] + 6000.0 players[jacobybrissett/2555261,7.944000000000001,56.85875999999993] + 8200.0 players[jameiswinston/2552033,15.16,24.149520000000077] + 7800.0 players[jaredgoff/2555334,14.42,44.299800000000076] + 8100.0 players[jarrettstidham/2562746,15.253999999999998,281.0317600000001] + 7600.0 players[jimmygaroppolo/2543801,14.432000000000002,63.969440000000105] + 6600.0 players[joeflacco/382,7.752000000000002,37.256679999999825] + 7800.0 players[joshallen/2560955,17.9,76.72900000000016] + 8600.0 players[joshmccown/2505076,9.794,75.78067999999995] + 8600.0 players[joshrosen/2560858,15.352,66.8123200000001] + 6900.0 players[kirkcousins/2532820,16.28,44.45708000000001] + 7800.0 players[kyleallen/2561177,18.256,56.92416000000018] + 7500.0 players[kylermurray/2562382,15.592,39.78812000000012] + 8350.0 players[lamarjackson/2560757,23.886666666666667,137.16746666666674] + 8100.0 players[lukefalk/2560720,21.732,163.00492000000003] + 7800.0 players[marcusmariota/2552466,17.768,35.206720000000146] + 6900.0 players[matthewstafford/79860,20.122,27.10364000000016] + 8600.0 players[mattmoore/2507282,18.332,66.12692000000015] + 8300.0 players[mattryan/310,18.182000000000002,124.91890000000002] + 6900.0 players[mattschaub/2505982,11.124,141.49007999999995] + 7700.0 players[mitchelltrubisky/2558008,14.395999999999999,68.7112800000001] + 7800.0 players[philiprivers/2506121,16.332,28.34520000000013] + 7300.0 players[robertgriffiniii/2533033,13.332,104.46192000000002] + 7900.0 players[russellwilson/2532975,15.696000000000002,98.16460000000014] + 6400.0 players[ryanfitzpatrick/2506581,11.316,79.14211999999992] + 7150.0 players[ryantannehill/2532956,3.71,98.04732000000006] + 7500.0 players[teddybridgewater/2543465,16.526,38.96968000000013] + 7800.0 players[tombrady/2504211,17.108,62.784900000000114] + 8000.0 players[tyrodtaylor/2495240,14.94,207.57620000000009] + 7200.0 players[adamshaheen/2558144,2.84,8.49300000000002] + 5300.0 players[anthonyfirkser/2558942,0.8599999999999999,1.1480000000000259] + 6700.0 players[antonyauclair/2559044,9.28,74.25999999999988] + 6250.0 players[austinhooper/2555415,9.14,68.7699999999999] + 4500.0 players[benbraunecker/2556478,1.7399999999999998,6.128000000000035] + 4000.0 players[blakebell/2552478,0.0,5.523359547510154e-14] + 4850.0 players[blakejarwin/2559193,2.48,2.0240000000000107] + 4800.0 players[c.j.uzomah/2552559,2.7,12.740000000000016] + 5400.0 players[cameronbrate/2550656,2.13,1.9015000000000213] + 4000.0 players[cethancarter/2558929,0.72,2.5920000000000294] + 5700.0 players[charlesclay/2495139,5.7,63.425] + 4450.0 players[chrismanhertz/2552622,0.1,0.10000000000004343] + 6800.0 players[dallasgoedert/2560995,8.64,26.56799999999999] + 4600.0 players[daltonschultz/2560866,4.17,14.342500000000019] + 4500.0 players[danarnold/2559385,1.04,0.6530000000000001] + 4900.0 players[danielbrown/2553900,2.3,7.21500000000003] + 4800.0 players[darrelldaniels/2558886,1.02,1.0820000000000252] + 5200.0 players[darrenfells/2540928,3.890000000000001,29.627999999999982] + 6700.0 players[darrenwaller/2552408,7.159999999999998,64.933] + 5800.0 players[davidnjoku/2557986,0.64,1.3729999999999831] + 4600.0 players[dawsonknox/2562681,2.1,1.2530000000000114] + 5700.0 players[delaniewalker/2495966,5.8,65.953] + 4500.0 players[demetriusharris/2541187,1.27,1.4820000000000253] + 4900.0 players[deonyelder/2561293,2.9799999999999995,5.6170000000000275] + 4900.0 players[derekcarrier/2534241,0.96,1.1480000000000388] + 4000.0 players[drewsample/2562720,0.0,4.39648317751562e-14] + 4400.0 players[durhamsmythe/2560880,2.46,6.487000000000031] + 5900.0 players[ericebron/2543466,2.2300000000000004,18.466500000000018] + 4500.0 players[erictomlinson/2553744,0.72,1.1149999999999944] + 6400.0 players[evanengram/2557858,6.500000000000001,98.66700000000002] + 5800.0 players[fostermoreau/2562317,2.46,20.277000000000022] + 6300.0 players[geoffswaim/2553454,4.02,21.461999999999975] + 7100.0 players[georgekittle/2558266,1.91,10.502500000000024] + 5000.0 players[geraldeverett/2557889,3.4400000000000004,23.17749999999999] + 6100.0 players[gregolsen/2495700,6.4,81.51699999999991] + 4800.0 players[halehentges/2563066,0.92,0.8120000000000258] + 4500.0 players[haydenhurst/2560747,3.82,9.62200000000002] + 6700.0 players[hunterhenry/2555341,15.21,37.432999999999865] + 5800.0 players[ianthomas/2560894,1.26,1.6380000000000263] + 4500.0 players[j.p.holtz/2556852,2.26,0.4630000000000114] + 5800.0 players[jackdoyle/2540232,3.08,16.199000000000016] + 6500.0 players[jacobhollister/2558956,5.300000000000002,93.5929999999999] + 5400.0 players[jaedengraham/2561622,2.24,2.3829999999999303] + 4600.0 players[jameso'shaughnessy/2553318,3.3200000000000003,15.338000000000019] + 5800.0 players[jaredcook/71265,1.26,1.6380000000000263] + 6500.0 players[jasonwitten/2505629,3.63,21.176499999999923] + 4500.0 players[jeffheuerman/2552399,1.52,1.2070000000000247] + 4500.0 players[jeremysprinkle/2557886,3.6,9.174999999999926] + 7100.0 players[jeromecunningham/2551359,2.44,11.483000000000018] + 5500.0 players[jessejames/2552633,3.92,17.648999999999965] + 5300.0 players[jimmygraham/497236,2.86,21.13999999999997] + 4800.0 players[johnnymundt/2558875,2.9400000000000004,25.208000000000034] + 4500.0 players[jonnusmith/2558207,0.78,0.8220000000000002] + 6750.0 players[jordanakins/2560951,8.39,56.78299999999999] + 4800.0 players[joshhill/2541834,3.4600000000000004,12.645000000000026] + 4900.0 players[kylerudolph/2495438,3.04,18.713000000000022] + 4450.0 players[lancekendricks/2495187,1.02,4.262000000000039] + 7100.0 players[leesmith/2495347,2.7,11.107000000000017] + 4500.0 players[levinetoilolo/2540203,0.11666666666666665,0.08166666666666665] + 6400.0 players[loganthomas/2543767,7.35,102.5795] + 5900.0 players[lukestocker/2495234,6.66,58.29299999999995] + 6700.0 players[lukewillson/2541199,7.260000000000002,55.68199999999998] + 4000.0 players[marcedeslewis/2495888,1.6500000000000004,3.9195000000000246] + 6100.0 players[markandrews/2560957,5.5600000000000005,81.768] + 5400.0 players[mattlacosse/2553667,2.8200000000000003,3.583000000000017] + 4900.0 players[maxxwilliams/2552468,4.1400000000000015,32.67300000000003] + 4600.0 players[mikegesicki/2560994,2.1,6.230000000000032] + 4700.0 players[moalie-cox/2558832,2.5700000000000003,11.03499999999998] + 4800.0 players[mycolepruitt/2552401,5.98,33.747] + 4700.0 players[nickboyle/2552402,3.0,22.654999999999976] + 4800.0 players[nickvannett/2555289,1.46,1.4030000000000231] + 4900.0 players[noahfant/2562383,1.92,4.8400000000000345] + 6500.0 players[o.j.howard/2557856,5.92,87.4169999999999] + 4850.0 players[pharaohbrown/2559018,2.1,4.283000000000022] + 4750.0 players[rhettellison/2532835,1.9000000000000004,1.262999999999976] + 5650.0 players[rickyseals-jones/2559248,6.110000000000001,103.25749999999996] + 5600.0 players[roberttonyan/2559270,2.91,1.3535000000000017] + 5900.0 players[rossdwelley/2561060,2.33,18.69150000000002] + 5200.0 players[ryangriffin/2541316,2.84,2.8680000000000136] + 4500.0 players[ryanizzo/2560751,2.18,23.761999999999986] + 8000.0 players[seanculkin/2559161,8.36,65.59799999999998] + 4500.0 players[sethdevalve/2556365,0.63,1.4305000000000259] + 5800.0 players[t.j.hockenson/2562378,4.58,95.985] + 5000.0 players[tannerhudson/2561215,4.3,23.21999999999991] + 4000.0 players[tommysweeney/2562750,0.9,4.050000000000028] + 8000.0 players[traviskelce/2540258,11.74,77.95799999999997] + 6700.0 players[treyburton/2550284,2.44,8.342999999999929] + 5800.0 players[troyfumagalli/2560734,0.64,1.3729999999999831] + 5500.0 players[tylerconklin/2561027,3.26,49.29799999999996] + 6000.0 players[tylereifert/2540148,6.630000000000001,53.14] + 4900.0 players[tylerhigbee/2555364,4.64,11.182999999999916] + 5300.0 players[vancemcdonald/2540215,0.76,0.5880000000000266] + 6800.0 players[vernondavis/2495826,10.59,50.63099999999999] + 4000.0 players[virgilgreen/2495288,2.28,8.22700000000002] + 5400.0 players[willdissly/2561046,7.119999999999999,84.473] + 6900.0 players[zachertz/2540158,6.8100000000000005,28.47599999999998]> <= 50000>"
      ]
     },
     "execution_count": 64,
     "metadata": {},
     "output_type": "execute_result"
    }
   ],
   "source": [
    "gp.quicksum( [ playerCost[playr] *players.select(playr)[0] for playr in player ]) <= 50000"
   ]
  },
  {
   "cell_type": "code",
   "execution_count": 69,
   "metadata": {},
   "outputs": [
    {
     "name": "stdout",
     "output_type": "stream",
     "text": [
      "valid roster, cost = 49000.0\n"
     ]
    }
   ],
   "source": [
    "teamRoster\n",
    "\n",
    "sum = 0\n",
    "for i in teamRoster:\n",
    "    sum += playerCost[i] \n",
    "sum \n",
    "\n",
    "\n",
    "constr = { 'QB':1, \"RB\":3,\"WR\":3, 'TE':1,\"DEF\":1} \n",
    "\n",
    "for pos in DF['position'].unique():\n",
    "    for i in teamRoster:\n",
    "        if position[i] == pos:\n",
    "            constr[pos] -= 1\n",
    "for key,value in constr.items():\n",
    "    if value != 0:\n",
    "        print('failure to meet pos constraint:',key)\n",
    "print('valid roster, cost =',sum)\n"
   ]
  },
  {
   "cell_type": "code",
   "execution_count": null,
   "metadata": {},
   "outputs": [],
   "source": []
  }
 ],
 "metadata": {
  "kernelspec": {
   "display_name": "Python 3",
   "language": "python",
   "name": "python3"
  },
  "language_info": {
   "codemirror_mode": {
    "name": "ipython",
    "version": 3
   },
   "file_extension": ".py",
   "mimetype": "text/x-python",
   "name": "python",
   "nbconvert_exporter": "python",
   "pygments_lexer": "ipython3",
   "version": "3.7.5"
  }
 },
 "nbformat": 4,
 "nbformat_minor": 2
}
