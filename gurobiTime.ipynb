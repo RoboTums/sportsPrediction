{
 "cells": [
  {
   "cell_type": "code",
   "execution_count": 1,
   "metadata": {},
   "outputs": [],
   "source": [
    "import gurobipy as gp\n",
    "from gurobipy import GRB\n",
    "import pandas as pd\n"
   ]
  },
  {
   "cell_type": "markdown",
   "metadata": {},
   "source": [
    "# Import Dataset, Processing"
   ]
  },
  {
   "cell_type": "code",
   "execution_count": 2,
   "metadata": {},
   "outputs": [],
   "source": [
    "DF = pd.read_csv('gurobiTime.csv',index_col=0)\n",
    "DF = DF.drop(['player.1'],axis=1)\n",
    "\n",
    "\n",
    "positionDF = []\n",
    "num_positions = len(DF['position'].unique())\n",
    "\n",
    "\n",
    "for i in DF['position'].unique():\n",
    "    positionDF.append( (DF[DF['position'] == i]) )\n",
    "\n",
    "    "
   ]
  },
  {
   "cell_type": "markdown",
   "metadata": {},
   "source": [
    "Make Gurobi datastructures to help represent the problem\n",
    "\n",
    "We create dictionaries for every single variable for each player, to allow for efficient access and ease of use.  The keys are Players, the tupleList objects are returnPlayer, playerVariance, playerCost , and position\n",
    "\n",
    "\n",
    "QB, RB, RB, WR, WR, WR, TE, D, K \n",
    "\n"
   ]
  },
  {
   "cell_type": "code",
   "execution_count": 3,
   "metadata": {},
   "outputs": [],
   "source": [
    "bigDict = {}\n",
    "for df_iter in range(len(positionDF)):\n",
    "    \n",
    "    currPosition = positionDF[df_iter]  \n",
    "    for player in currPosition.index:\n",
    "        returnPlayer = currPosition.loc[player]['mean']\n",
    "        playerVariance = currPosition.loc[player]['variance']\n",
    "        playerCost = currPosition.loc[player]['cost']\n",
    "        position = currPosition.loc[player]['position']\n",
    "        bigDict[player] = [returnPlayer, playerVariance, playerCost , position]\n",
    "         \n",
    "player, returnPlayer, playerVariance, playerCost , position = gp.multidict(bigDict)\n",
    "\n",
    "\n",
    "positionPlayerConstraintVars = gp.tuplelist( [(position.select(playr)[0],playr) for playr in player])\n",
    "\n",
    "playerDecisionVars = gp.tuplelist( [ (choice, returnPlayer.select(choice)[0], playerVariance.select(choice)[0])  for choice in player ] )\n",
    "\n",
    "positionConstraints = gp.tupledict( { 'QB':1, \"RB\":2,\"WR\":3, 'TE':1,\"DEF\":1, 'FLEX':1})#'K':0} )\n",
    "\n",
    "\n"
   ]
  },
  {
   "cell_type": "code",
   "execution_count": 5,
   "metadata": {},
   "outputs": [
    {
     "data": {
      "text/plain": [
       "{'QB': 1, 'RB': 2, 'WR': 3, 'TE': 1, 'DEF': 1, 'FLEX': 1}"
      ]
     },
     "execution_count": 5,
     "metadata": {},
     "output_type": "execute_result"
    }
   ],
   "source": [
    "positionPlayerConstraintVars\n",
    "\n",
    "\n",
    "# Constraints: assign exactly shiftRequirements[s] workers to each shift s\n",
    "\n",
    "# reqCts = {}\n",
    "# for s in shifts:\n",
    "#   reqCts[s] = m.addConstr(\n",
    "#        gp.quicksum(x[w,s] for w,s in availability.select('*', s)) ==\n",
    "#        shiftRequirements[s], s)\n",
    "positionConstraints"
   ]
  },
  {
   "cell_type": "code",
   "execution_count": 9,
   "metadata": {},
   "outputs": [
    {
     "name": "stdout",
     "output_type": "stream",
     "text": [
      "Gurobi Optimizer version 9.0.0 build v9.0.0rc2 (linux64)\n",
      "Optimize a model with 6 rows, 478 columns and 956 nonzeros\n",
      "Model fingerprint: 0xb96f297f\n",
      "Variable types: 0 continuous, 478 integer (478 binary)\n",
      "Coefficient statistics:\n",
      "  Matrix range     [1e+00, 9e+03]\n",
      "  Objective range  [4e-14, 4e+02]\n",
      "  Bounds range     [1e+00, 1e+00]\n",
      "  RHS range        [1e+00, 5e+04]\n",
      "Found heuristic solution: objective 340.4580800\n",
      "Presolve removed 1 rows and 292 columns\n",
      "Presolve time: 0.00s\n",
      "Presolved: 5 rows, 186 columns, 364 nonzeros\n",
      "Found heuristic solution: objective -13.6987400\n",
      "Variable types: 0 continuous, 186 integer (186 binary)\n",
      "Found heuristic solution: objective -13.8587400\n",
      "\n",
      "Root relaxation: cutoff, 1 iterations, 0.00 seconds\n",
      "\n",
      "    Nodes    |    Current Node    |     Objective Bounds      |     Work\n",
      " Expl Unexpl |  Obj  Depth IntInf | Incumbent    BestBd   Gap | It/Node Time\n",
      "\n",
      "     0     0     cutoff    0       -13.85874  -13.85874  0.00%     -    0s\n",
      "\n",
      "Explored 1 nodes (1 simplex iterations) in 0.04 seconds\n",
      "Thread count was 4 (of 4 available processors)\n",
      "\n",
      "Solution count 3: -13.8587 -13.6987 340.458 \n",
      "No other solutions better than -13.8587\n",
      "\n",
      "Optimal solution found (tolerance 1.00e-04)\n",
      "Best objective -1.385874000000e+01, best bound -1.385874000000e+01, gap 0.0000%\n",
      "\n",
      "optimal team roster:  ['Carolina', 'devanteparker/2552409', 'dontemoncrief/2543614', 'zayjones/2557863', 'bostonscott/2561146', 'kylejuszczyk/2540230', 'bakermayfield/2560800', 'j.p.holtz/2556852']\n",
      "failure to meet pos constraint: RB\n",
      "valid roster, cost = 46100.0\n",
      "\n",
      " expected return - risk : -13.858739999999509\n"
     ]
    }
   ],
   "source": [
    "try:\n",
    "    m = gp.Model('QMIP')\n",
    "    #add binary decision variables on whether \n",
    "    \n",
    "    \n",
    "    #add decision variables\n",
    "    players = m.addVars( playerDecisionVars, vtype=GRB.BINARY, name='players') \n",
    "    \n",
    "    \n",
    "    \n",
    "    #add position constraint. We set upper bound to be one and keep the constraint a continuous variable since the \n",
    "    #model will keep integer solutions\n",
    "    \n",
    "    #positionConstratint = m.addVars(positionConstraints, ub =1 , name='positionConstr')\n",
    "    \n",
    "    \n",
    "    # set objective funcition\n",
    "    m.setObjective(  - gp.quicksum( returnPlayer[choice] *players[choice,retrn,var] for choice, retrn, var in players ) \n",
    "                   + gp.quicksum( playerVariance[choice] *players[choice,retrn,var] for choice, retrn, var in players ) \n",
    "                   ,GRB.MINIMIZE)\n",
    "    \n",
    "    #constraint: sum of each position must be a constraint:\n",
    "    #for pos in DF['position'].unique():\n",
    "        \n",
    "        \n",
    "    posConstrs = {} \n",
    "    for pos in DF['position'].unique():\n",
    "        if 'pos' == 'FLEX':\n",
    "            continue\n",
    "        players_in_pos = [playr for playr in player if position[playr] == pos]\n",
    "        \n",
    "        posConstrs[pos] = m.addConstr( gp.quicksum( [ players.select(playr)[0] for playr in player if position[playr] == pos ] ) == positionConstraints[pos] )\n",
    "        \n",
    "  #  modelPositionConstr =  m.addConstrs(  players.sum(position[choice] ) ==  positionConstraints [ position[choice] ] for choice ,_,_ in players  ) \n",
    "    \n",
    "    #salary constraint\n",
    "    costConstr = m.addConstr(gp.quicksum( [ playerCost[playr] *players.select(playr)[0] for playr in player ]) <= 50000 )\n",
    "    \n",
    "\n",
    "    #flex constraints\n",
    "  #  flexConstr = m.addConstr(gp.quicksum([ players.prod(players.select(playr),'*') for playr in player if playr == 'WR' ] ) == 1 )\n",
    "    \n",
    "    m.update()\n",
    "    \n",
    "    m.optimize()\n",
    "    \n",
    "    foundPlayers = m.X\n",
    "    \n",
    "    \n",
    "    teamRoster = [ player[i] for i in range(len(player)) if foundPlayers[i]==1 ]\n",
    "    print('\\noptimal team roster: ',teamRoster)\n",
    "    \n",
    "    sum = 0\n",
    "    for i in teamRoster:\n",
    "        sum += playerCost[i] \n",
    "    sum \n",
    "\n",
    "\n",
    "    constr = { 'QB':1, \"RB\":3,\"WR\":3, 'TE':1,\"DEF\":1} \n",
    "\n",
    "    for pos in DF['position'].unique():\n",
    "        for i in teamRoster:\n",
    "            if position[i] == pos:\n",
    "                constr[pos] -= 1\n",
    "    for key,value in constr.items():\n",
    "        if value != 0:\n",
    "            print('failure to meet pos constraint:',key)\n",
    "    print('valid roster, cost =',sum)    \n",
    "    \n",
    "    print('\\n expected return - risk :',m.objVal)\n",
    "\n",
    "except gp.GurobiError as e:\n",
    "    print('Error code ' + str(e.errno) + \": \" + str(e))"
   ]
  },
  {
   "cell_type": "code",
   "execution_count": null,
   "metadata": {},
   "outputs": [],
   "source": [
    "\n",
    "\n"
   ]
  },
  {
   "cell_type": "code",
   "execution_count": 7,
   "metadata": {},
   "outputs": [
    {
     "data": {
      "text/plain": [
       "1"
      ]
     },
     "execution_count": 7,
     "metadata": {},
     "output_type": "execute_result"
    }
   ],
   "source": [
    "positionConstraints['FLEX']"
   ]
  },
  {
   "cell_type": "code",
   "execution_count": 8,
   "metadata": {},
   "outputs": [
    {
     "ename": "SyntaxError",
     "evalue": "invalid syntax (<ipython-input-8-3c4b6a8cf8f2>, line 1)",
     "output_type": "error",
     "traceback": [
      "\u001b[0;36m  File \u001b[0;32m\"<ipython-input-8-3c4b6a8cf8f2>\"\u001b[0;36m, line \u001b[0;32m1\u001b[0m\n\u001b[0;31m    gp.quicksum([ players.prod(players.select(playr),'*')[ for playr in player if playr == 'WR' ] ) == 1\u001b[0m\n\u001b[0m                                                             ^\u001b[0m\n\u001b[0;31mSyntaxError\u001b[0m\u001b[0;31m:\u001b[0m invalid syntax\n"
     ]
    }
   ],
   "source": [
    "gp.quicksum([ players.prod(players.select(playr),'*')[ for playr in player if playr == 'WR' ] ) == 1 "
   ]
  },
  {
   "cell_type": "code",
   "execution_count": null,
   "metadata": {},
   "outputs": [],
   "source": [
    "gp.quicksum( [   playerCost[playr] *players.select(playr)[0] for playr in player ]) <= 50000"
   ]
  },
  {
   "cell_type": "code",
   "execution_count": null,
   "metadata": {},
   "outputs": [],
   "source": [
    "teamRoster\n",
    "\n",
    "sum = 0\n",
    "for i in teamRoster:\n",
    "    sum += playerCost[i] \n",
    "sum \n",
    "\n",
    "\n",
    "constr = { 'QB':1, \"RB\":3,\"WR\":3, 'TE':1,\"DEF\":1} \n",
    "\n",
    "for pos in DF['position'].unique():\n",
    "    for i in teamRoster:\n",
    "        if position[i] == pos:\n",
    "            constr[pos] -= 1\n",
    "for key,value in constr.items():\n",
    "    if value != 0:\n",
    "        print('failure to meet pos constraint:',key)\n",
    "print('valid roster, cost =',sum)\n"
   ]
  },
  {
   "cell_type": "code",
   "execution_count": null,
   "metadata": {},
   "outputs": [],
   "source": []
  },
  {
   "cell_type": "code",
   "execution_count": null,
   "metadata": {},
   "outputs": [],
   "source": []
  }
 ],
 "metadata": {
  "kernelspec": {
   "display_name": "Python 3",
   "language": "python",
   "name": "python3"
  },
  "language_info": {
   "codemirror_mode": {
    "name": "ipython",
    "version": 3
   },
   "file_extension": ".py",
   "mimetype": "text/x-python",
   "name": "python",
   "nbconvert_exporter": "python",
   "pygments_lexer": "ipython3",
   "version": "3.7.5"
  }
 },
 "nbformat": 4,
 "nbformat_minor": 2
}
