{
 "cells": [
  {
   "cell_type": "code",
   "execution_count": 3,
   "metadata": {},
   "outputs": [],
   "source": [
    "import gurobipy as gp\n",
    "from gurobipy import GRB\n",
    "import pandas as pd\n"
   ]
  },
  {
   "cell_type": "markdown",
   "metadata": {},
   "source": [
    "# Import Dataset, Processing"
   ]
  },
  {
   "cell_type": "code",
   "execution_count": 67,
   "metadata": {},
   "outputs": [
    {
     "data": {
      "text/plain": [
       "[]"
      ]
     },
     "execution_count": 67,
     "metadata": {},
     "output_type": "execute_result"
    }
   ],
   "source": [
    "DF = pd.read_csv('gurobiTime.csv',index_col=0)\n",
    "DF = DF.drop(['player.1'],axis=1)\n",
    "\n",
    "\n",
    "positionDF = []\n",
    "num_positions = len(DF['position'].unique())\n",
    "\n",
    "\n",
    "for i in DF['position'].unique():\n",
    "    positionDF.append( (DF[DF['position'] == i]) )\n",
    "\n",
    "    "
   ]
  },
  {
   "cell_type": "markdown",
   "metadata": {},
   "source": [
    "Make Gurobi datastructures to help represent the problem\n",
    "\n",
    "We create dictionaries for every single variable for each player, to allow for efficient access and ease of use.  The keys are Players, the tupleList objects are returnPlayer, playerVariance, playerCost , and position\n",
    "\n",
    "\n",
    "QB, RB, RB, WR, WR, WR, TE, D, K \n",
    "\n"
   ]
  },
  {
   "cell_type": "code",
   "execution_count": 96,
   "metadata": {},
   "outputs": [
    {
     "data": {
      "text/plain": [
       "[1]"
      ]
     },
     "execution_count": 96,
     "metadata": {},
     "output_type": "execute_result"
    }
   ],
   "source": [
    "bigDict = {}\n",
    "for df_iter in range(len(positionDF)):\n",
    "    \n",
    "    currPosition = positionDF[df_iter]  \n",
    "    for player in currPosition.index:\n",
    "        returnPlayer = currPosition.loc[player]['mean']\n",
    "        playerVariance = currPosition.loc[player]['variance']\n",
    "        playerCost = currPosition.loc[player]['cost']\n",
    "        position = currPosition.loc[player]['position']\n",
    "        bigDict[player] = [returnPlayer, playerVariance, playerCost , position]\n",
    "         \n",
    "player, returnPlayer, playerVariance, playerCost , position = gp.multidict(bigDict)\n",
    "\n",
    "\n",
    "positionConstraints = gp.tupledict( { 'QB':1, \"RB\":2,\"WR\":3, 'TE':1,\"D\":1,'K':1} )\n",
    "\n"
   ]
  },
  {
   "cell_type": "code",
   "execution_count": 89,
   "metadata": {},
   "outputs": [
    {
     "data": {
      "text/plain": [
       "180.292"
      ]
     },
     "execution_count": 89,
     "metadata": {},
     "output_type": "execute_result"
    }
   ],
   "source": [
    "#"
   ]
  },
  {
   "cell_type": "code",
   "execution_count": null,
   "metadata": {},
   "outputs": [],
   "source": [
    "try:\n",
    "    m = gp.Model('QMIP')\n",
    "    #add binary decision variables on whether \n",
    "    for i in DF['position'].unique():\n",
    "        numPlayers = len(DF[DF['position']==i])\n",
    "        varName = 'player' + i\n",
    "        x = m.addVar( numPlayers , vtype=GRB.BINARY, name = varName  )\n",
    "        listOfPositionDecisionVars.append(x)\n",
    "    \n",
    "    \n",
    "    # set up return values for each player\n",
    "    for df_iter in range(len(positionDF)):\n",
    "        currentDF = positionDF[df_iter]\n",
    "        currentPlayers = listOfPositionDecisionVars[df_iter] \n",
    "        for player in currentPlayers:\n",
    "            currentDF['mean']\n",
    "        \n",
    "    \n",
    "    \n",
    "    m.update()\n",
    "\n",
    "except gp.GurobiError as e:\n",
    "    print('Error code ' + str(e.errno) + \": \" + str(e))"
   ]
  }
 ],
 "metadata": {
  "kernelspec": {
   "display_name": "Python 3",
   "language": "python",
   "name": "python3"
  },
  "language_info": {
   "codemirror_mode": {
    "name": "ipython",
    "version": 3
   },
   "file_extension": ".py",
   "mimetype": "text/x-python",
   "name": "python",
   "nbconvert_exporter": "python",
   "pygments_lexer": "ipython3",
   "version": "3.7.5"
  }
 },
 "nbformat": 4,
 "nbformat_minor": 2
}
