{
 "cells": [
  {
   "cell_type": "code",
   "execution_count": 3,
   "metadata": {},
   "outputs": [],
   "source": [
    "import gurobipy as gp\n",
    "from gurobipy import GRB\n",
    "import pandas as pd\n"
   ]
  },
  {
   "cell_type": "markdown",
   "metadata": {},
   "source": [
    "# Import Dataset, Processing"
   ]
  },
  {
   "cell_type": "code",
   "execution_count": 67,
   "metadata": {},
   "outputs": [
    {
     "data": {
      "text/plain": [
       "[]"
      ]
     },
     "execution_count": 67,
     "metadata": {},
     "output_type": "execute_result"
    }
   ],
   "source": [
    "DF = pd.read_csv('gurobiTime.csv',index_col=0)\n",
    "DF = DF.drop(['player.1'],axis=1)\n",
    "\n",
    "\n",
    "positionDF = []\n",
    "num_positions = len(DF['position'].unique())\n",
    "\n",
    "\n",
    "for i in DF['position'].unique():\n",
    "    positionDF.append( (DF[DF['position'] == i]) )\n",
    "\n",
    "    "
   ]
  },
  {
   "cell_type": "markdown",
   "metadata": {},
   "source": [
    "Make Gurobi datastructures to help represent the problem\n",
    "\n",
    "We create dictionaries for every single variable for each player, to allow for efficient access and ease of use.  The keys are Players, the tupleList objects are returnPlayer, playerVariance, playerCost , and position\n",
    "\n",
    "\n",
    "QB, RB, RB, WR, WR, WR, TE, D, K \n",
    "\n"
   ]
  },
  {
   "cell_type": "code",
   "execution_count": 201,
   "metadata": {},
   "outputs": [],
   "source": [
    "bigDict = {}\n",
    "for df_iter in range(len(positionDF)):\n",
    "    \n",
    "    currPosition = positionDF[df_iter]  \n",
    "    for player in currPosition.index:\n",
    "        returnPlayer = currPosition.loc[player]['mean']\n",
    "        playerVariance = currPosition.loc[player]['variance']\n",
    "        playerCost = currPosition.loc[player]['cost']\n",
    "        position = currPosition.loc[player]['position']\n",
    "        bigDict[player] = [returnPlayer, playerVariance, playerCost , position]\n",
    "         \n",
    "player, returnPlayer, playerVariance, playerCost , position = gp.multidict(bigDict)\n",
    "\n",
    "\n",
    "positionPlayerConstraintVars = gp.tuplelist( [(position.select(playr)[0],playr) for playr in player])\n",
    "\n",
    "playerDecisionVars = gp.tuplelist( [ (choice, returnPlayer.select(choice)[0], playerVariance.select(choice)[0])  for choice in player ] )\n",
    "\n",
    "positionConstraints = gp.tupledict( { 'QB':1, \"RB\":2,\"WR\":3, 'TE':1,\"DEF\":1,'K':1} )\n",
    "\n",
    "\n"
   ]
  },
  {
   "cell_type": "code",
   "execution_count": 239,
   "metadata": {},
   "outputs": [
    {
     "data": {
      "text/plain": [
       "{'QB': 1, 'RB': 2, 'WR': 3, 'TE': 1, 'DEF': 1, 'K': 1}"
      ]
     },
     "execution_count": 239,
     "metadata": {},
     "output_type": "execute_result"
    }
   ],
   "source": [
    "positionPlayerConstraintVars\n",
    "\n",
    "\n",
    "\n",
    "# Constraints: assign exactly shiftRequirements[s] workers to each shift s\n",
    "\n",
    "# reqCts = {}\n",
    "# for s in shifts:\n",
    "#   reqCts[s] = m.addConstr(\n",
    "#        gp.quicksum(x[w,s] for w,s in availability.select('*', s)) ==\n",
    "#        shiftRequirements[s], s)\n",
    "positionConstraints"
   ]
  },
  {
   "cell_type": "code",
   "execution_count": 232,
   "metadata": {},
   "outputs": [
    {
     "name": "stdout",
     "output_type": "stream",
     "text": [
      "Gurobi Optimizer version 9.0.0 build v9.0.0rc2 (linux64)\n",
      "Optimize a model with 478 rows, 478 columns and 0 nonzeros\n",
      "Model fingerprint: 0x28161cb6\n",
      "Variable types: 0 continuous, 478 integer (478 binary)\n",
      "Coefficient statistics:\n",
      "  Matrix range     [0e+00, 0e+00]\n",
      "  Objective range  [4e-14, 4e+02]\n",
      "  Bounds range     [1e+00, 1e+00]\n",
      "  RHS range        [1e+00, 3e+00]\n",
      "Presolve time: 0.00s\n",
      "\n",
      "Explored 0 nodes (0 simplex iterations) in 0.01 seconds\n",
      "Thread count was 1 (of 4 available processors)\n",
      "\n",
      "Solution count 0\n",
      "\n",
      "Model is infeasible\n",
      "Best objective -, best bound -, gap -\n"
     ]
    }
   ],
   "source": [
    "try:\n",
    "    m = gp.Model('QMIP')\n",
    "    #add binary decision variables on whether \n",
    "    \n",
    "    \n",
    "    #add decision variables\n",
    "    players = m.addVars( playerDecisionVars, vtype=GRB.BINARY, name='players') \n",
    "    \n",
    "    \n",
    "    \n",
    "    #add position constraint. We set upper bound to be one and keep the constraint a continuous variable since the \n",
    "    #model will keep integer solutions\n",
    "    \n",
    "    #positionConstratint = m.addVars(positionConstraints, ub =1 , name='positionConstr')\n",
    "    \n",
    "    \n",
    "    # set objective funcition\n",
    "    m.setObjective(  - gp.quicksum( returnPlayer[choice] *players[choice,retrn,var] for choice, retrn, var in players ) \n",
    "                   + gp.quicksum( playerVariance[choice] *players[choice,retrn,var] for choice, retrn, var in players ) \n",
    "                   ,GRB.MINIMIZE)\n",
    "    \n",
    "    #constraint: sum of each position must be a constraint:\n",
    "    #for pos in DF['position'].unique():\n",
    "        \n",
    "        \n",
    "    posConstrs = {} \n",
    "    for pos in DF['position'].unique():\n",
    "        posConstrs[pos] = m.addConstr( \n",
    "        gp.quicksum(x[choice,retrn])\n",
    "        )\n",
    "        \n",
    "        \n",
    "    modelPositionConstr =  m.addConstrs(  players.sum(position[choice] ) ==  positionConstraints [ position[choice] ] for choice ,_,_ in players  ) \n",
    "    \n",
    "    m.update()\n",
    "    \n",
    "    m.optimize()\n",
    "\n",
    "except gp.GurobiError as e:\n",
    "    print('Error code ' + str(e.errno) + \": \" + str(e))"
   ]
  },
  {
   "cell_type": "code",
   "execution_count": 200,
   "metadata": {},
   "outputs": [
    {
     "data": {
      "text/plain": [
       "{'QB': 1, 'RB': 2, 'WR': 3, 'TE': 1, 'D': 1, 'K': 1}"
      ]
     },
     "execution_count": 200,
     "metadata": {},
     "output_type": "execute_result"
    }
   ],
   "source": [
    "x = position['Arizona'] \n",
    "\n",
    "positionConstraints"
   ]
  },
  {
   "cell_type": "code",
   "execution_count": 236,
   "metadata": {},
   "outputs": [
    {
     "data": {
      "text/plain": [
       "2.7"
      ]
     },
     "execution_count": 236,
     "metadata": {},
     "output_type": "execute_result"
    }
   ],
   "source": []
  },
  {
   "cell_type": "code",
   "execution_count": null,
   "metadata": {},
   "outputs": [],
   "source": []
  }
 ],
 "metadata": {
  "kernelspec": {
   "display_name": "Python 3",
   "language": "python",
   "name": "python3"
  },
  "language_info": {
   "codemirror_mode": {
    "name": "ipython",
    "version": 3
   },
   "file_extension": ".py",
   "mimetype": "text/x-python",
   "name": "python",
   "nbconvert_exporter": "python",
   "pygments_lexer": "ipython3",
   "version": "3.7.5"
  }
 },
 "nbformat": 4,
 "nbformat_minor": 2
}
