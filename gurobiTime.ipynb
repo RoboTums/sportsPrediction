{
 "cells": [
  {
   "cell_type": "code",
   "execution_count": 5,
   "metadata": {},
   "outputs": [],
   "source": [
    "import gurobipy as gp\n",
    "from gurobipy import GRB\n",
    "import pandas as pd\n"
   ]
  },
  {
   "cell_type": "markdown",
   "metadata": {},
   "source": [
    "# Import Dataset, Processing"
   ]
  },
  {
   "cell_type": "code",
   "execution_count": 6,
   "metadata": {},
   "outputs": [],
   "source": [
    "DF = pd.read_csv('gurobiTime.csv',index_col=0)\n",
    "DF = DF.drop(['player.1'],axis=1)\n",
    "\n",
    "\n",
    "positionDF = []\n",
    "num_positions = len(DF['position'].unique())\n",
    "\n",
    "\n",
    "for i in DF['position'].unique():\n",
    "    positionDF.append( (DF[DF['position'] == i]) )\n",
    "\n",
    "    "
   ]
  },
  {
   "cell_type": "markdown",
   "metadata": {},
   "source": [
    "Make Gurobi datastructures to help represent the problem\n",
    "\n",
    "We create dictionaries for every single variable for each player, to allow for efficient access and ease of use.  The keys are Players, the tupleList objects are returnPlayer, playerVariance, playerCost , and position\n",
    "\n",
    "\n",
    "QB, RB, RB, WR, WR, WR, TE, D, K \n",
    "\n"
   ]
  },
  {
   "cell_type": "code",
   "execution_count": 82,
   "metadata": {},
   "outputs": [],
   "source": [
    "bigDict = {}\n",
    "for df_iter in range(len(positionDF)):\n",
    "    \n",
    "    currPosition = positionDF[df_iter]  \n",
    "    for player in currPosition.index:\n",
    "        returnPlayer = currPosition.loc[player]['mean']\n",
    "        playerVariance = currPosition.loc[player]['variance']\n",
    "        playerCost = currPosition.loc[player]['cost']\n",
    "        position = currPosition.loc[player]['position']\n",
    "        bigDict[player] = [returnPlayer, playerVariance, playerCost , position]\n",
    "         \n",
    "player, returnPlayer, playerVariance, playerCost , position = gp.multidict(bigDict)\n",
    "\n",
    "\n",
    "\n",
    "playerDecisionVars = gp.tuplelist( [ (choice, returnPlayer.select(choice)[0], playerVariance.select(choice)[0])  for choice in player ] )\n",
    "\n",
    "\n",
    "\n",
    "positionConstraints = gp.tupledict( { 'QB':1, \"RB\":3,\"WR\":3, 'TE':1,\"DEF\":1,'FLEX':1})#'K':0} )\n",
    "\n",
    "\n"
   ]
  },
  {
   "cell_type": "code",
   "execution_count": 33,
   "metadata": {},
   "outputs": [
    {
     "data": {
      "text/plain": [
       "list"
      ]
     },
     "execution_count": 33,
     "metadata": {},
     "output_type": "execute_result"
    }
   ],
   "source": [
    "def printToolBox():\n",
    "    print('\\n, player: list of names of players. Essentially, indexes')\n",
    "    print('\\n returnPlayer, playerVariance, playerCost , position : all tuple dictionaries, indexed by player ')\n",
    "    print('\\n positionConstraints: tupledict for constraint amounts, index by position')\n",
    "    print('\\n playerDecisionVars: tuplelist, essentially [player,E[return],Var[Return]]')\n",
    "    print('\\n players: gurobi tupledict; Binary decision variables: O if player is not chosen, 1 if chosen. Indexed by player  ')\n",
    "    print('\\n flexPossible : gurobi TupleDict: contains all player objects that are possible for flex position')\n",
    "    print('\\n flexPlayers: gurobi decision variables, tupleDict, 0,1 for binary flex players')\n",
    "    \n",
    "    #returns true if a player is valid for a flex position\n",
    "def flexValid(player):\n",
    "    if position[player] == \"WR\" or position[player] == 'RB' or position[player] == 'TE':\n",
    "        return True\n",
    "    else:\n",
    "        return False\n",
    "    \n"
   ]
  },
  {
   "cell_type": "code",
   "execution_count": 196,
   "metadata": {},
   "outputs": [
    {
     "name": "stdout",
     "output_type": "stream",
     "text": [
      "Gurobi Optimizer version 9.0.0 build v9.0.0rc2 (linux64)\n",
      "Optimize a model with 409 rows, 881 columns and 1762 nonzeros\n",
      "Model fingerprint: 0x3c232bf3\n",
      "Variable types: 0 continuous, 881 integer (881 binary)\n",
      "Coefficient statistics:\n",
      "  Matrix range     [1e+00, 9e+03]\n",
      "  Objective range  [4e-14, 4e+02]\n",
      "  Bounds range     [1e+00, 1e+00]\n",
      "  RHS range        [1e+00, 6e+04]\n",
      "Found heuristic solution: objective 349.6047467\n",
      "Presolve removed 409 rows and 881 columns\n",
      "Presolve time: 0.00s\n",
      "Presolve: All rows and columns removed\n",
      "\n",
      "Explored 0 nodes (0 simplex iterations) in 0.02 seconds\n",
      "Thread count was 1 (of 4 available processors)\n",
      "\n",
      "Solution count 2: -20.4581 \n",
      "No other solutions better than -20.4581\n",
      "\n",
      "Optimal solution found (tolerance 1.00e-04)\n",
      "Best objective -2.045807333333e+01, best bound -2.045807333333e+01, gap 0.0000%\n",
      "\n",
      "optimal team roster:  ['Carolina', 'chrishogan/2530515', 'dontemoncrief/2543614', 'zayjones/2557863', 'bilalpowell/2495328', 'devontaebooker/2555223', 't.j.logan/2558273', 'bakermayfield/2560800', 'drewsample/2562720']\n",
      "valid roster, cost = 45200.0\n",
      "\n",
      " expected return - risk : -20.458073333332454\n"
     ]
    }
   ],
   "source": [
    "try:\n",
    "    m = gp.Model('QMIP')\n",
    "    #add binary decision variables on whether \n",
    "    \n",
    "\n",
    "    \n",
    "    #add decision variables\n",
    "    players = m.addVars( playerDecisionVars, vtype=GRB.BINARY, name='players') \n",
    "        # get easy to use Hashmap for players\n",
    "    m.update()\n",
    "    flexPossible =gp.tuplelist([(plyr,players.select(plyr)[0]) for plyr in player if flexValid(plyr)])\n",
    "    x = {}\n",
    "    for i in flexPossible:\n",
    "        key = i[0]\n",
    "        x[key] = i[1]\n",
    "    flexPossible = gp.tupledict(x)\n",
    "    #add flex variables as a another type of decision variables\n",
    "    \n",
    "    flexPlayers = m.addVars(flexPossible, vtype=GRB.BINARY,name='flexPlayers')\n",
    "    \n",
    "    m.update()\n",
    "\n",
    "    #add position constraint. We set upper bound to be one and keep the constraint a continuous variable since the \n",
    "    #model will keep integer solutions\n",
    "    \n",
    "    #positionConstratint = m.addVars(positionConstraints, ub =1 , name='positionConstr')\n",
    "    \n",
    "\n",
    "    # set objective funcition\n",
    "    m.setObjective(  - gp.quicksum( returnPlayer[choice] *players[choice,retrn,var] for choice, retrn, var in players )\n",
    "                   - gp.quicksum(returnPlayer[choice] * flexPlayers[choice] for choice in flexPossible)\n",
    "                   + gp.quicksum( playerVariance[choice] *players[choice,retrn,var] for choice, retrn, var in players )\n",
    "                    + gp.quicksum( playerVariance[choice] *flexPlayers[choice] for choice in flexPossible ),GRB.MINIMIZE)\n",
    "    \n",
    "    #constraint: sum of each position must be a constraint:\n",
    "    #for pos in DF['position'].unique():\n",
    "        \n",
    "        \n",
    "    posConstrs = {} \n",
    "    for pos in DF['position'].unique():\n",
    "        if 'pos' == 'FLEX':\n",
    "            continue\n",
    "        players_in_pos = [playr for playr in player if position[playr] == pos]\n",
    "        \n",
    "        posConstrs[pos] = m.addConstr( gp.quicksum( [ players.select(playr)[0] for playr in player if position[playr] == pos ] ) == positionConstraints[pos] )\n",
    "        \n",
    "    \n",
    "    #salary constraint\n",
    "    costConstr = m.addConstr(gp.quicksum( [ playerCost[playr] *players.select(playr)[0] for playr in player ]) <= 60000 )\n",
    "    \n",
    "    flexIndex = [player.select(plyr)[0] for plyr in player if flexValid(plyr)]\n",
    "\n",
    "    flxConstrs = {}\n",
    "    for plyr in flexIndex:\n",
    "       # print(flexPlayers.select(plyr)[0])\n",
    "        flxConstrs[plyr] = m.addConstr( (flexPlayers.select(plyr)[0] + players.select(plyr)[0] <= 1  )  )\n",
    "  \n",
    "    #flexConstrs = m.addConstr( (flexPlayers.select(plyr)[0] + players.select(plyr)[0] for plyr in player if flexValid(plyr)  <= positionConstraints[\"FLEX\"] ) )\n",
    "    \n",
    "    \n",
    "    \n",
    "    #flex constraints\n",
    "  #  flexConstr = m.addConstr(gp.quicksum([ players.prod(players.select(playr),'*') for playr in player if playr == 'WR' ] ) == 1 )\n",
    "    \n",
    "    m.update()\n",
    "    \n",
    "    m.optimize()\n",
    "    \n",
    "    foundPlayers = m.X\n",
    "    \n",
    "    \n",
    "    teamRoster = [ player[i] for i in range(len(player)) if foundPlayers[i]==1 ]\n",
    "    print('\\noptimal team roster: ',teamRoster)\n",
    "    \n",
    "    sum = 0\n",
    "    for i in teamRoster:\n",
    "        sum += playerCost[i] \n",
    "    sum \n",
    "\n",
    "\n",
    "    constr = { 'QB':1, \"RB\":3,\"WR\":3, 'TE':1,\"DEF\":1} \n",
    "\n",
    "    for pos in DF['position'].unique():\n",
    "        for i in teamRoster:\n",
    "            if position[i] == pos:\n",
    "                constr[pos] -= 1\n",
    "    for key,value in constr.items():\n",
    "        if value != 0:\n",
    "            print('failure to meet pos constraint:',key)\n",
    "    print('valid roster, cost =',sum)    \n",
    "    \n",
    "    print('\\n expected return - risk :',m.objVal)\n",
    "\n",
    "except gp.GurobiError as e:\n",
    "    print('Error code ' + str(e.errno) + \": \" + str(e))"
   ]
  },
  {
   "cell_type": "code",
   "execution_count": 166,
   "metadata": {},
   "outputs": [],
   "source": [
    "flexTest = [player for plyr in player if flexValid(plyr)][0]\n",
    "l = []\n",
    "r = []\n",
    "for plyr in flexTest:\n",
    "    l.append(players.select(plyr)[0])\n",
    "    r.append(flexPlayers.select(plyr))\n",
    "#flexPlayers[('a.j.brown/2562238,<gurobi.Var players[a.j.brown/2562238,7.619999999999999,83.35200000000006]>')]"
   ]
  },
  {
   "cell_type": "code",
   "execution_count": 165,
   "metadata": {},
   "outputs": [
    {
     "data": {
      "text/plain": [
       "<generator object <genexpr> at 0x7fe45f8f2ad0>"
      ]
     },
     "execution_count": 165,
     "metadata": {},
     "output_type": "execute_result"
    }
   ],
   "source": [
    "(flexPlayers.select(plyr)[0] + players.select(plyr)[0] for plyr in player if flexValid(plyr)  <= 1 ) \n"
   ]
  },
  {
   "cell_type": "code",
   "execution_count": null,
   "metadata": {},
   "outputs": [],
   "source": [
    "gp.quicksum([ players.prod(players.select(playr),'*')[ for playr in player if playr == 'WR' ] ) == 1 "
   ]
  },
  {
   "cell_type": "code",
   "execution_count": null,
   "metadata": {},
   "outputs": [],
   "source": [
    "gp.quicksum( [   playerCost[playr] *players.select(playr)[0] for playr in player ]) <= 50000"
   ]
  },
  {
   "cell_type": "code",
   "execution_count": 20,
   "metadata": {},
   "outputs": [
    {
     "name": "stdout",
     "output_type": "stream",
     "text": [
      "valid roster, cost = 50600.0\n"
     ]
    }
   ],
   "source": [
    "teamRoster\n",
    "\n",
    "sum = 0\n",
    "for i in teamRoster:\n",
    "    sum += playerCost[i] \n",
    "sum \n",
    "\n",
    "\n",
    "constr = { 'QB':1, \"RB\":3,\"WR\":3, 'TE':1,\"DEF\":1} \n",
    "\n",
    "for pos in DF['position'].unique():\n",
    "    for i in teamRoster:\n",
    "        if position[i] == pos:\n",
    "            constr[pos] -= 1\n",
    "for key,value in constr.items():\n",
    "    if value != 0:\n",
    "        print('failure to meet pos constraint:',key)\n",
    "print('valid roster, cost =',sum)\n"
   ]
  },
  {
   "cell_type": "code",
   "execution_count": 171,
   "metadata": {},
   "outputs": [
    {
     "ename": "KeyError",
     "evalue": "'Arizona'",
     "output_type": "error",
     "traceback": [
      "\u001b[0;31m---------------------------------------------------------------------------\u001b[0m",
      "\u001b[0;31mKeyError\u001b[0m                                  Traceback (most recent call last)",
      "\u001b[0;32m<ipython-input-171-d40035f82ee1>\u001b[0m in \u001b[0;36m<module>\u001b[0;34m\u001b[0m\n\u001b[1;32m      1\u001b[0m \u001b[0;32mfor\u001b[0m \u001b[0mplyr\u001b[0m \u001b[0;32min\u001b[0m \u001b[0mflexIndex\u001b[0m\u001b[0;34m:\u001b[0m\u001b[0;34m\u001b[0m\u001b[0;34m\u001b[0m\u001b[0m\n\u001b[0;32m----> 2\u001b[0;31m         \u001b[0mprint\u001b[0m\u001b[0;34m(\u001b[0m\u001b[0mflexPlayers\u001b[0m\u001b[0;34m[\u001b[0m\u001b[0mplyr\u001b[0m\u001b[0;34m]\u001b[0m\u001b[0;34m)\u001b[0m\u001b[0;34m\u001b[0m\u001b[0;34m\u001b[0m\u001b[0m\n\u001b[0m\u001b[1;32m      3\u001b[0m         \u001b[0;31m#flxConstrs[plyr] =(flexPlayers.select(plyr) + players.select(plyr)[0] <= 1  )\u001b[0m\u001b[0;34m\u001b[0m\u001b[0;34m\u001b[0m\u001b[0;34m\u001b[0m\u001b[0m\n\u001b[1;32m      4\u001b[0m \u001b[0;34m\u001b[0m\u001b[0m\n",
      "\u001b[0;31mKeyError\u001b[0m: 'Arizona'"
     ]
    }
   ],
   "source": [
    "for plyr in flexIndex:\n",
    "        print(flexPlayers[plyr])\n",
    "        #flxConstrs[plyr] =(flexPlayers.select(plyr) + players.select(plyr)[0] <= 1  )  \n",
    "  "
   ]
  },
  {
   "cell_type": "code",
   "execution_count": 197,
   "metadata": {},
   "outputs": [
    {
     "data": {
      "text/plain": [
       "9"
      ]
     },
     "execution_count": 197,
     "metadata": {},
     "output_type": "execute_result"
    }
   ],
   "source": [
    "flexIndex = [player.select(plyr)[0] for plyr in player if flexValid(plyr)]\n"
   ]
  },
  {
   "cell_type": "code",
   "execution_count": null,
   "metadata": {},
   "outputs": [],
   "source": []
  }
 ],
 "metadata": {
  "kernelspec": {
   "display_name": "Python 3",
   "language": "python",
   "name": "python3"
  },
  "language_info": {
   "codemirror_mode": {
    "name": "ipython",
    "version": 3
   },
   "file_extension": ".py",
   "mimetype": "text/x-python",
   "name": "python",
   "nbconvert_exporter": "python",
   "pygments_lexer": "ipython3",
   "version": "3.7.5"
  }
 },
 "nbformat": 4,
 "nbformat_minor": 2
}
