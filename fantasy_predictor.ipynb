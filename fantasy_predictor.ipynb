{
 "cells": [
  {
   "cell_type": "code",
   "execution_count": 28,
   "metadata": {},
   "outputs": [],
   "source": [
    "import pandas as pd\n",
    "import numpy as np\n",
    "%matplotlib inline"
   ]
  },
  {
   "cell_type": "markdown",
   "metadata": {},
   "source": [
    "## Feature Analysis"
   ]
  },
  {
   "cell_type": "code",
   "execution_count": 30,
   "metadata": {},
   "outputs": [],
   "source": [
    "qb = pd.read_csv(\"data/finalized_data/finalized_QB.csv\", index_col=0)\n",
    "de = pd.read_csv(\"data/finalized_data/finalized_DEF.csv\", index_col=0)\n",
    "rb = pd.read_csv(\"data/finalized_data/finalized_RB.csv\", index_col=0)\n",
    "te = pd.read_csv(\"data/finalized_data/finalized_TE.csv\", index_col=0)\n",
    "wr = pd.read_csv(\"data/finalized_data/finalized_WR.csv\", index_col=0)\n"
   ]
  },
  {
   "cell_type": "markdown",
   "metadata": {},
   "source": [
    "### VARIABLES \n",
    "\n",
    "#### Very important variables\n",
    "- week (for time series)\n",
    "- Outcome\n",
    "- Score\n",
    "\n",
    "#### Useless variables\n",
    "- Season \n",
    "- Position (same as file name, except for FB and RB in RB)\n",
    "- Game Date is probably irrelevant if we have the weeks?\n",
    "- Also all Years are 2019\n",
    "- All Games Played are 1\n",
    "- All Years Played are nan\n",
    "\n",
    "#### All\n",
    "- week (1) #integer\n",
    "- opponent ('PIT') #string\n",
    "- team ('det') #string\n",
    "- salary (4500) #integer\n",
    "- name ('Gabriel, Taylor' or 'Minnesota') #string\n",
    "- Player Id\n",
    "\n",
    "#### ALL BUT DEF AND QB\n",
    "- Longest Reception ('5T' '-8' '--') #string\n",
    "- Longest Rushing Run ('--' '4T' '9') #string\n",
    "- Receptions ('--' or '1') #string\n",
    "- Yards per Reception ('--' '6.0') #string\n",
    "\n",
    "#### All BUT DEF\n",
    "- Year (2019) #integer\n",
    "- Game Date ('09/08') #string\n",
    "- Home or Away ('Away') #string\n",
    "- Outcome ('W') #string\n",
    "- Score ('59 to 10') #string -> x to y --> x - y\n",
    "- Games Started (1 or 0) #integer\n",
    "- Rushing Attempts ('7' or '--') #string\n",
    "- Yards Per Carry ('10.7' or '--') #string\n",
    "- Rushing TDs ('1' or '--') #string\n",
    "- Rushing Yards ('32' or '--' ) #string\n",
    "- Fumbles ('--' or '1') #string\n",
    "- Fumbles Lost ('--' or '1') #string\n",
    "- Age (21.) #float?\n",
    "- Birth Place ('Gainesville , GA') #string\n",
    "- Birthday ('1/7/1997') #string\n",
    "- College ('Louisville') #string\n",
    "- Current Status ('Injured reserve') #string\n",
    "- Current Team ('Buffalo Bills') #string WHAT IS THE DIFFERENCE BETWEEN THIS AND team???\n",
    "- Experience ('10th season') #string\n",
    "- Height (inches) (71.) #float\n",
    "- High School ('Grand Blanc HS') #string\n",
    "- High School Location ('Powder Springs, GA' or 'GA') #string\n",
    "- Number (nan or 17. ) #float\n",
    "- Weight (lbs) (260.) #float\n",
    "\n",
    "#### ONLY ON QB \n",
    "- Passes Completed ('17' or '--') #string\n",
    "- Passes Attempted ('17' or '--') #string\n",
    "- Completion Percentage ('57.7' or '--') #string\n",
    "- Passing Yards ('308' or '--') #string\n",
    "- Passing Yards Per Attempt ('9.1' or '--') #string\n",
    "- TD Passes ('3' or '--') #string\n",
    "- Ints ('2' or '--') #string\n",
    "- Sacks ('3' or '--') #string\n",
    "- Sacked Yards Lost ('17' or '--') #string\n",
    "- Passer Rating (71.9) #float"
   ]
  },
  {
   "cell_type": "markdown",
   "metadata": {},
   "source": [
    "### Next Steps\n",
    "\n",
    "1. Do analysis for the rest of features (CHECK)\n",
    "2. One-hot-encode the strings and convert all ints to floats\n",
    "3. Create one feature vector per instance\n",
    "4. Separate the time variable, and labels\n",
    "5. Start experimenting with regressors"
   ]
  },
  {
   "cell_type": "code",
   "execution_count": 8,
   "metadata": {},
   "outputs": [
    {
     "data": {
      "text/plain": [
       "(46, ['name', 'team', 'opponent', 'points', 'salary', 'week'])"
      ]
     },
     "execution_count": 8,
     "metadata": {},
     "output_type": "execute_result"
    }
   ],
   "source": [
    "all_cols = list(qb.columns) + list(rb.columns) + list(wr.columns) + list(te.columns)\n",
    "all_cols = set(all_cols)\n",
    "def_cols = list(de.columns)\n",
    "len(all_cols), def_cols"
   ]
  },
  {
   "cell_type": "markdown",
   "metadata": {},
   "source": [
    "## Data Engineering"
   ]
  },
  {
   "cell_type": "code",
   "execution_count": 9,
   "metadata": {},
   "outputs": [],
   "source": [
    "from sklearn.preprocessing import StandardScaler\n",
    "from sklearn.decomposition import PCA\n",
    "from sklearn.model_selection import GridSearchCV\n",
    "from sklearn.pipeline import Pipeline"
   ]
  },
  {
   "cell_type": "code",
   "execution_count": 31,
   "metadata": {},
   "outputs": [],
   "source": [
    "### Remove columns\n",
    "# to_remove = [\"Season\", \"Position\", \"Game Date\", \"Year\", \"Games Played\", \"Years Played\", \"Player Id\", \"name\"]\n",
    "to_remove = [\"Season\", \"Position\", \"Game Date\", \"Year\", \"Games Played\", \"Years Played\"]\n",
    "targets = [qb, wr, te, rb]\n",
    "\n",
    "for target in targets:\n",
    "    target.drop(to_remove, axis=1, inplace=True)"
   ]
  },
  {
   "cell_type": "code",
   "execution_count": 32,
   "metadata": {},
   "outputs": [],
   "source": [
    "all_numerical_cols = [\"week\", \"salary\"]\n",
    "\n",
    "not_def_numerical_cols = [\"Games Started\", \"Rushing Attempts\", \"Yards Per Carry\", \"Rushing TDs\", \n",
    "                          \"Rushing Yards\", \"Fumbles\", \"Fumbles Lost\", \"Age\", \"Height (inches)\", \n",
    "                          \"Weight (lbs)\", \"Number\"]\n",
    "\n",
    "not_def_qb_numerical_cols = [\"Receptions\", \"Yards Per Reception\"]\n",
    "\n",
    "only_qb = [\"Passes Completed\", \"Passes Attempted\", \"Completion Percentage\", \"Passing Yards\", \"Sacked Yards Lost\",\n",
    "           \"Passing Yards Per Attempt\", \"TD Passes\", \"Ints\", \"Sacks\", \"Passer Rating\"]"
   ]
  },
  {
   "cell_type": "code",
   "execution_count": 33,
   "metadata": {},
   "outputs": [],
   "source": [
    "# Convert all numerical values to floats\n",
    "for target in [qb, wr, te, rb, de]:\n",
    "    for col in all_numerical_cols:\n",
    "        target[col] = target[col].replace(\"--\", \"0\").astype(\"float64\")\n",
    "\n",
    "for target in targets:\n",
    "    for col in not_def_numerical_cols:\n",
    "        target[col] = target[col].replace(\"--\", \"0\").astype(\"float64\")\n",
    "\n",
    "for target in [wr, te, rb]:\n",
    "    for col in not_def_qb_numerical_cols:\n",
    "        target[col] = target[col].replace(\"--\", \"0\").astype(\"float64\")\n",
    "        \n",
    "for col in only_qb:\n",
    "    qb[col] = qb[col].replace(\"--\", \"0\").astype(\"float64\")"
   ]
  },
  {
   "cell_type": "code",
   "execution_count": 34,
   "metadata": {
    "scrolled": true
   },
   "outputs": [
    {
     "data": {
      "text/plain": [
       "Index(['Player Id', 'name', 'week', 'Home or Away', 'opponent', 'Outcome',\n",
       "       'Score', 'Games Started', 'Passes Completed', 'Passes Attempted',\n",
       "       'Completion Percentage', 'Passing Yards', 'Passing Yards Per Attempt',\n",
       "       'TD Passes', 'Ints', 'Sacks', 'Sacked Yards Lost', 'Passer Rating',\n",
       "       'Rushing Attempts', 'Rushing Yards', 'Yards Per Carry', 'Rushing TDs',\n",
       "       'Fumbles', 'Fumbles Lost', 'Unnamed: 0.1', 'team', 'points', 'salary',\n",
       "       'Age', 'Birth Place', 'Birthday', 'College', 'Current Status',\n",
       "       'Current Team', 'Experience', 'Height (inches)', 'High School',\n",
       "       'High School Location', 'Number', 'Weight (lbs)'],\n",
       "      dtype='object')"
      ]
     },
     "execution_count": 34,
     "metadata": {},
     "output_type": "execute_result"
    }
   ],
   "source": [
    "qb.columns"
   ]
  },
  {
   "cell_type": "code",
   "execution_count": 14,
   "metadata": {},
   "outputs": [],
   "source": [
    "### Transform data\n",
    "final_dfs = []\n",
    "\n",
    "def transform(target):\n",
    "    # Retrieve columns w/ categorical data\n",
    "    cat = target.select_dtypes(include=['object']).copy()\n",
    "    \n",
    "    #Return df with onehot encoding applied to the columns which are categorical\n",
    "    one_hot = pd.get_dummies(target, columns=cat.columns)\n",
    "    one_hot = one_hot.replace(np.nan, 0.0)\n",
    "    \n",
    "    return one_hot\n",
    "\n",
    "qb = transform(qb)\n",
    "wr = transform(wr)\n",
    "te = transform(te)\n",
    "rb = transform(rb)"
   ]
  },
  {
   "cell_type": "code",
   "execution_count": 15,
   "metadata": {},
   "outputs": [],
   "source": [
    "# Turn into X and Y\n",
    "qb_X = qb.drop(\"points\", axis=1).values\n",
    "qb_y = qb[\"points\"].values"
   ]
  },
  {
   "cell_type": "code",
   "execution_count": 16,
   "metadata": {},
   "outputs": [
    {
     "data": {
      "text/plain": [
       "array([[ 1.,  1., 17., ...,  0.,  0.,  0.],\n",
       "       [ 5.,  1., 19., ...,  0.,  0.,  0.],\n",
       "       [ 7.,  1.,  9., ...,  0.,  0.,  0.],\n",
       "       ...,\n",
       "       [ 4.,  1., 18., ...,  0.,  0.,  0.],\n",
       "       [ 5.,  1., 28., ...,  0.,  0.,  0.],\n",
       "       [ 7.,  1., 31., ...,  0.,  0.,  0.]])"
      ]
     },
     "execution_count": 16,
     "metadata": {},
     "output_type": "execute_result"
    }
   ],
   "source": [
    "qb_X"
   ]
  },
  {
   "cell_type": "code",
   "execution_count": 12,
   "metadata": {},
   "outputs": [
    {
     "data": {
      "text/plain": [
       "103"
      ]
     },
     "execution_count": 12,
     "metadata": {},
     "output_type": "execute_result"
    }
   ],
   "source": [
    "len(qb_X)"
   ]
  },
  {
   "cell_type": "code",
   "execution_count": 13,
   "metadata": {},
   "outputs": [],
   "source": [
    "# Scale/normalize values\n",
    "scaler = StandardScaler()\n",
    "# Fit on training set only.\n",
    "scaler.fit(qb_X)\n",
    "# Apply transform to both the training set and the test set.\n",
    "qb_X = scaler.transform(qb_X)"
   ]
  },
  {
   "cell_type": "code",
   "execution_count": 14,
   "metadata": {},
   "outputs": [
    {
     "data": {
      "text/plain": [
       "103"
      ]
     },
     "execution_count": 14,
     "metadata": {},
     "output_type": "execute_result"
    }
   ],
   "source": [
    "len(qb_X)"
   ]
  },
  {
   "cell_type": "code",
   "execution_count": 15,
   "metadata": {},
   "outputs": [],
   "source": [
    "# Perform Grid Search on PCA\n",
    "pca = PCA(n_components=0.95)\n",
    "pca.fit(qb_X)\n",
    "trans_qb_X = pca.transform(qb_X)\n",
    "\n",
    "# param_grid = {\n",
    "#     'n_components': [20, 35, 50, 65, 0.95]\n",
    "# }\n",
    "# search = GridSearchCV(pca, param_grid, n_jobs=-1)\n",
    "# search.fit(qb_X, qb_y)\n",
    "# print(\"Best parameter (CV score=%0.3f):\" % search.best_score_)\n",
    "# print(search.best_params_)\n"
   ]
  },
  {
   "cell_type": "code",
   "execution_count": 16,
   "metadata": {},
   "outputs": [
    {
     "data": {
      "text/plain": [
       "72"
      ]
     },
     "execution_count": 16,
     "metadata": {},
     "output_type": "execute_result"
    }
   ],
   "source": [
    "len(trans_qb_X[0])"
   ]
  },
  {
   "cell_type": "markdown",
   "metadata": {},
   "source": [
    "## Regression"
   ]
  },
  {
   "cell_type": "code",
   "execution_count": 381,
   "metadata": {},
   "outputs": [],
   "source": [
    "# Apply simple Ridge Regression for testing purposes\n",
    "from sklearn.linear_model import Ridge\n",
    "from sklearn.model_selection import train_test_split"
   ]
  },
  {
   "cell_type": "code",
   "execution_count": 382,
   "metadata": {},
   "outputs": [],
   "source": [
    "X_train, X_test, y_train, y_test=train_test_split(qb_X, qb_y, test_size=0.2,random_state=69420)"
   ]
  },
  {
   "cell_type": "code",
   "execution_count": 383,
   "metadata": {},
   "outputs": [
    {
     "name": "stderr",
     "output_type": "stream",
     "text": [
      "/Users/dafirebanks/anaconda3/lib/python3.6/site-packages/sklearn/model_selection/_split.py:1978: FutureWarning: The default value of cv will change from 3 to 5 in version 0.22. Specify it explicitly to silence this warning.\n",
      "  warnings.warn(CV_WARNING, FutureWarning)\n"
     ]
    },
    {
     "name": "stdout",
     "output_type": "stream",
     "text": [
      "Best parameter (CV score=0.611):\n",
      "{'alpha': 10}\n"
     ]
    }
   ],
   "source": [
    "ridge = Ridge()\n",
    "param_grid = {\n",
    "    'alpha': [0.01, 0.1, 0.2, 1, 10, 100]\n",
    "}\n",
    "search = GridSearchCV(ridge, param_grid, n_jobs=-1)\n",
    "search.fit(X_train, y_train)\n",
    "print(\"Best parameter (CV score=%0.3f):\" % search.best_score_)\n",
    "print(search.best_params_)"
   ]
  },
  {
   "cell_type": "code",
   "execution_count": 386,
   "metadata": {},
   "outputs": [
    {
     "data": {
      "text/plain": [
       "Ridge(alpha=10, copy_X=True, fit_intercept=True, max_iter=None, normalize=False,\n",
       "      random_state=69420, solver='auto', tol=0.001)"
      ]
     },
     "execution_count": 386,
     "metadata": {},
     "output_type": "execute_result"
    }
   ],
   "source": [
    "ridge_opt = Ridge(alpha=10, random_state=69420)\n",
    "ridge_opt.fit(X_train, y_train)"
   ]
  },
  {
   "cell_type": "code",
   "execution_count": 387,
   "metadata": {},
   "outputs": [],
   "source": [
    "preds = ridge_opt.predict(X_test)"
   ]
  },
  {
   "cell_type": "code",
   "execution_count": 63,
   "metadata": {},
   "outputs": [],
   "source": [
    "from sklearn.metrics import mean_absolute_error\n",
    "from sklearn.metrics import mean_squared_error\n",
    "from sklearn.metrics import r2_score\n",
    "from sklearn.metrics import mean_squared_log_error"
   ]
  },
  {
   "cell_type": "code",
   "execution_count": 406,
   "metadata": {},
   "outputs": [
    {
     "data": {
      "text/plain": [
       "(28.9, 1.16)"
      ]
     },
     "execution_count": 406,
     "metadata": {},
     "output_type": "execute_result"
    }
   ],
   "source": [
    "max(y_test), min(y_test)"
   ]
  },
  {
   "cell_type": "code",
   "execution_count": 393,
   "metadata": {},
   "outputs": [
    {
     "data": {
      "text/plain": [
       "4.002270756503693"
      ]
     },
     "execution_count": 393,
     "metadata": {},
     "output_type": "execute_result"
    }
   ],
   "source": [
    "mean_absolute_error(y_test, preds)"
   ]
  },
  {
   "cell_type": "code",
   "execution_count": 394,
   "metadata": {},
   "outputs": [
    {
     "data": {
      "text/plain": [
       "25.827383540169226"
      ]
     },
     "execution_count": 394,
     "metadata": {},
     "output_type": "execute_result"
    }
   ],
   "source": [
    "mean_squared_error(y_test, preds)"
   ]
  },
  {
   "cell_type": "code",
   "execution_count": 395,
   "metadata": {},
   "outputs": [
    {
     "data": {
      "text/plain": [
       "0.5532005272426592"
      ]
     },
     "execution_count": 395,
     "metadata": {},
     "output_type": "execute_result"
    }
   ],
   "source": [
    "r2_score(y_test, preds)"
   ]
  },
  {
   "cell_type": "code",
   "execution_count": 401,
   "metadata": {},
   "outputs": [
    {
     "data": {
      "text/plain": [
       "5.082064889409542"
      ]
     },
     "execution_count": 401,
     "metadata": {},
     "output_type": "execute_result"
    }
   ],
   "source": [
    "np.sqrt(mean_squared_error(y_test, preds))"
   ]
  },
  {
   "cell_type": "code",
   "execution_count": 405,
   "metadata": {},
   "outputs": [
    {
     "data": {
      "text/plain": [
       "(21, 21, 21)"
      ]
     },
     "execution_count": 405,
     "metadata": {},
     "output_type": "execute_result"
    }
   ],
   "source": [
    "len(X_test), len(y_test), len(preds)"
   ]
  },
  {
   "cell_type": "code",
   "execution_count": 407,
   "metadata": {},
   "outputs": [
    {
     "data": {
      "text/plain": [
       "(array([17.52, 28.9 , 24.66,  9.3 , 16.72,  1.16,  9.08,  8.98, 15.44,\n",
       "        20.56, 24.92, 28.18,  3.58, 16.78, 21.54, 20.44, 14.44, 13.46,\n",
       "        24.34, 12.92,  7.86]),\n",
       " array([18.9703144 , 21.49256999, 19.0090774 , 11.59092028, 16.48571005,\n",
       "         9.66636725, 11.75678144, 11.09221383, 13.90925573, 23.38854914,\n",
       "        17.32970451, 18.61086023,  4.07068359, 17.5215175 , 23.05563577,\n",
       "        15.27304844, 20.9016149 , 17.46097512, 13.7700557 , 11.51462349,\n",
       "         9.70701819]))"
      ]
     },
     "execution_count": 407,
     "metadata": {},
     "output_type": "execute_result"
    }
   ],
   "source": [
    "y_test, preds"
   ]
  },
  {
   "cell_type": "markdown",
   "metadata": {},
   "source": [
    "## Time Series Regression"
   ]
  },
  {
   "cell_type": "code",
   "execution_count": 44,
   "metadata": {},
   "outputs": [],
   "source": [
    "# Source: http://mariofilho.com/how-to-predict-multiple-time-series-with-scikit-learn-with-sales-forecasting-example/"
   ]
  },
  {
   "cell_type": "markdown",
   "metadata": {},
   "source": [
    "0. Remove all other features, leaving only week and score per player"
   ]
  },
  {
   "cell_type": "code",
   "execution_count": 48,
   "metadata": {},
   "outputs": [
    {
     "data": {
      "text/html": [
       "<div>\n",
       "<style scoped>\n",
       "    .dataframe tbody tr th:only-of-type {\n",
       "        vertical-align: middle;\n",
       "    }\n",
       "\n",
       "    .dataframe tbody tr th {\n",
       "        vertical-align: top;\n",
       "    }\n",
       "\n",
       "    .dataframe thead th {\n",
       "        text-align: right;\n",
       "    }\n",
       "</style>\n",
       "<table border=\"1\" class=\"dataframe\">\n",
       "  <thead>\n",
       "    <tr style=\"text-align: right;\">\n",
       "      <th></th>\n",
       "      <th>week</th>\n",
       "      <th>points</th>\n",
       "      <th>Player Id</th>\n",
       "    </tr>\n",
       "  </thead>\n",
       "  <tbody>\n",
       "    <tr>\n",
       "      <th>93</th>\n",
       "      <td>1</td>\n",
       "      <td>12.92</td>\n",
       "      <td>aaronrodgers/2506363</td>\n",
       "    </tr>\n",
       "    <tr>\n",
       "      <th>22</th>\n",
       "      <td>1</td>\n",
       "      <td>20.72</td>\n",
       "      <td>andydalton/2495143</td>\n",
       "    </tr>\n",
       "    <tr>\n",
       "      <th>67</th>\n",
       "      <td>1</td>\n",
       "      <td>27.20</td>\n",
       "      <td>casekeenum/2532888</td>\n",
       "    </tr>\n",
       "    <tr>\n",
       "      <th>61</th>\n",
       "      <td>1</td>\n",
       "      <td>-0.82</td>\n",
       "      <td>danieljones/2562299</td>\n",
       "    </tr>\n",
       "    <tr>\n",
       "      <th>30</th>\n",
       "      <td>1</td>\n",
       "      <td>14.84</td>\n",
       "      <td>elimanning/2505996</td>\n",
       "    </tr>\n",
       "  </tbody>\n",
       "</table>\n",
       "</div>"
      ],
      "text/plain": [
       "    week  points             Player Id\n",
       "93     1   12.92  aaronrodgers/2506363\n",
       "22     1   20.72    andydalton/2495143\n",
       "67     1   27.20    casekeenum/2532888\n",
       "61     1   -0.82   danieljones/2562299\n",
       "30     1   14.84    elimanning/2505996"
      ]
     },
     "execution_count": 48,
     "metadata": {},
     "output_type": "execute_result"
    }
   ],
   "source": [
    "# Remove features\n",
    "time_qb = qb[['week', 'points', 'Player Id']]\n",
    "\n",
    "# Sort by week and ID\n",
    "time_qb = time_qb.sort_values(['week', 'Player Id'])\n",
    "time_qb.head()"
   ]
  },
  {
   "cell_type": "markdown",
   "metadata": {},
   "source": [
    "1. Some feature engineering on scores"
   ]
  },
  {
   "cell_type": "code",
   "execution_count": 55,
   "metadata": {},
   "outputs": [
    {
     "data": {
      "text/html": [
       "<div>\n",
       "<style scoped>\n",
       "    .dataframe tbody tr th:only-of-type {\n",
       "        vertical-align: middle;\n",
       "    }\n",
       "\n",
       "    .dataframe tbody tr th {\n",
       "        vertical-align: top;\n",
       "    }\n",
       "\n",
       "    .dataframe thead th {\n",
       "        text-align: right;\n",
       "    }\n",
       "</style>\n",
       "<table border=\"1\" class=\"dataframe\">\n",
       "  <thead>\n",
       "    <tr style=\"text-align: right;\">\n",
       "      <th></th>\n",
       "      <th>week</th>\n",
       "      <th>points</th>\n",
       "      <th>Player Id</th>\n",
       "      <th>Last_Week_Points</th>\n",
       "      <th>Last_Week_Diff</th>\n",
       "    </tr>\n",
       "  </thead>\n",
       "  <tbody>\n",
       "    <tr>\n",
       "      <th>24</th>\n",
       "      <td>4</td>\n",
       "      <td>4.64</td>\n",
       "      <td>andydalton/2495143</td>\n",
       "      <td>18.06</td>\n",
       "      <td>-2.66</td>\n",
       "    </tr>\n",
       "    <tr>\n",
       "      <th>17</th>\n",
       "      <td>5</td>\n",
       "      <td>21.16</td>\n",
       "      <td>gardnerminshew/2562796</td>\n",
       "      <td>16.72</td>\n",
       "      <td>0.60</td>\n",
       "    </tr>\n",
       "    <tr>\n",
       "      <th>86</th>\n",
       "      <td>5</td>\n",
       "      <td>18.90</td>\n",
       "      <td>jaredgoff/2555334</td>\n",
       "      <td>16.16</td>\n",
       "      <td>5.72</td>\n",
       "    </tr>\n",
       "    <tr>\n",
       "      <th>92</th>\n",
       "      <td>5</td>\n",
       "      <td>18.46</td>\n",
       "      <td>joshallen/2560955</td>\n",
       "      <td>22.22</td>\n",
       "      <td>4.26</td>\n",
       "    </tr>\n",
       "    <tr>\n",
       "      <th>8</th>\n",
       "      <td>5</td>\n",
       "      <td>32.90</td>\n",
       "      <td>mattryan/310</td>\n",
       "      <td>23.46</td>\n",
       "      <td>2.90</td>\n",
       "    </tr>\n",
       "  </tbody>\n",
       "</table>\n",
       "</div>"
      ],
      "text/plain": [
       "    week  points               Player Id  Last_Week_Points  Last_Week_Diff\n",
       "24     4    4.64      andydalton/2495143             18.06           -2.66\n",
       "17     5   21.16  gardnerminshew/2562796             16.72            0.60\n",
       "86     5   18.90       jaredgoff/2555334             16.16            5.72\n",
       "92     5   18.46       joshallen/2560955             22.22            4.26\n",
       "8      5   32.90            mattryan/310             23.46            2.90"
      ]
     },
     "execution_count": 55,
     "metadata": {},
     "output_type": "execute_result"
    }
   ],
   "source": [
    "time_qb2 = time_qb.copy()\n",
    "time_qb2['Last_Week_Points'] = time_qb2.groupby(['Player Id'])['points'].shift()\n",
    "time_qb2['Last_Week_Diff'] = time_qb2.groupby(['Player Id'])['Last_Week_Points'].diff()\n",
    "time_qb2 = time_qb2.dropna()\n",
    "time_qb2.head()"
   ]
  },
  {
   "cell_type": "code",
   "execution_count": 60,
   "metadata": {},
   "outputs": [
    {
     "data": {
      "text/plain": [
       "array([1, 2, 3, 4, 5, 6, 7, 8])"
      ]
     },
     "execution_count": 60,
     "metadata": {},
     "output_type": "execute_result"
    }
   ],
   "source": [
    "time_qb['week'].unique()"
   ]
  },
  {
   "cell_type": "code",
   "execution_count": 59,
   "metadata": {},
   "outputs": [
    {
     "data": {
      "text/plain": [
       "<matplotlib.axes._subplots.AxesSubplot at 0x1a1d383080>"
      ]
     },
     "execution_count": 59,
     "metadata": {},
     "output_type": "execute_result"
    },
    {
     "data": {
      "image/png": "[encoded data removed]",
      "text/plain": [
       "<Figure size 720x360 with 1 Axes>"
      ]
     },
     "metadata": {
      "needs_background": "light"
     },
     "output_type": "display_data"
    }
   ],
   "source": [
    "time_qb2['points'].hist(bins=20, figsize=(10,5))"
   ]
  },
  {
   "cell_type": "code",
   "execution_count": 107,
   "metadata": {},
   "outputs": [],
   "source": [
    "def rmsle(ytrue, ypred):\n",
    "    return np.sqrt(mean_squared_error(ytrue, ypred))"
   ]
  },
  {
   "cell_type": "code",
   "execution_count": 96,
   "metadata": {},
   "outputs": [],
   "source": [
    "# Try changing player id stuff?\n",
    "time_qb['Player Id'] = time_qb['Player Id'].str.extract('(\\d+)', expand=False).astype(int)"
   ]
  },
  {
   "cell_type": "code",
   "execution_count": 92,
   "metadata": {},
   "outputs": [
    {
     "name": "stdout",
     "output_type": "stream",
     "text": [
      "Week 4 - Error 1.21771\n",
      "Week 5 - Error 0.70761\n",
      "Week 6 - Error 1.66017\n",
      "Week 7 - Error 0.62166\n",
      "Week 8 - Error 0.69810\n",
      "Mean Error = 0.98105\n"
     ]
    }
   ],
   "source": [
    "# Baseline model? We should look into this later\n",
    "mean_error = []\n",
    "for week in range(4, 9):\n",
    "    train = time_qb2[time_qb2['week'] < week]\n",
    "    val = time_qb2[time_qb2['week'] == week]\n",
    "    \n",
    "    p = val['Last_Week_Points'].values\n",
    "    \n",
    "    error = rmsle(val['points'].values, p)\n",
    "    print('Week %d - Error %.5f' % (week, error))\n",
    "    mean_error.append(error)\n",
    "print('Mean Error = %.5f' % np.mean(mean_error))"
   ]
  },
  {
   "cell_type": "code",
   "execution_count": 93,
   "metadata": {},
   "outputs": [],
   "source": [
    "from sklearn.ensemble import RandomForestRegressor\n",
    "from lightgbm import LGBMRegressor"
   ]
  },
  {
   "cell_type": "code",
   "execution_count": 108,
   "metadata": {},
   "outputs": [
    {
     "name": "stdout",
     "output_type": "stream",
     "text": [
      "Week 2 - Error 10.56873\n",
      "Week 3 - Error 7.87561\n",
      "Week 4 - Error 9.84751\n",
      "Week 5 - Error 11.80581\n",
      "Week 6 - Error 10.64140\n",
      "Week 7 - Error 9.19862\n",
      "Week 8 - Error 11.54118\n",
      "Mean Error = 10.21127\n"
     ]
    }
   ],
   "source": [
    "# Try Random Forests?\n",
    "mean_error = []\n",
    "for week in range(2, 9):\n",
    "    train = time_qb[time_qb['week'] < week]\n",
    "    val = time_qb[time_qb['week'] == week]\n",
    "    \n",
    "    xtr, xts = train.drop(['points'], axis=1), val.drop(['points'], axis=1)\n",
    "    ytr, yts = train['points'].values, val['points'].values\n",
    "    \n",
    "    mdl = RandomForestRegressor(n_estimators=1000, n_jobs=-1, random_state=69420)\n",
    "    mdl.fit(xtr, ytr)\n",
    "    \n",
    "    p = mdl.predict(xts)\n",
    "    \n",
    "    error = rmsle(yts, p)\n",
    "    print('Week %d - Error %.5f' % (week, error))\n",
    "    mean_error.append(error)\n",
    "print('Mean Error = %.5f' % np.mean(mean_error))"
   ]
  },
  {
   "cell_type": "code",
   "execution_count": null,
   "metadata": {},
   "outputs": [],
   "source": [
    "## time_qb3 = time_qb.copy()\n",
    "time_qb3['Last_Week_Points'] = time_qb3.groupby(['Player Id'])['points'].shift()\n",
    "time_qb3['Last_Week_Diff'] = time_qb3.groupby(['Player Id'])['Last_Week_Points'].diff()\n",
    "time_qb3['Last-1_Week_Points'] = time_qb3.groupby(['Player Id'])['points'].shift(2)\n",
    "time_qb3['Last-1_Week_Diff'] = time_qb3.groupby(['Player Id'])['Last-1_Week_Points'].diff()\n",
    "time_qb3 = time_qb3.dropna()\n",
    "time_qb3.head()"
   ]
  },
  {
   "cell_type": "code",
   "execution_count": 103,
   "metadata": {},
   "outputs": [
    {
     "name": "stdout",
     "output_type": "stream",
     "text": [
      "Week 7 - Error 0.26306\n",
      "Week 8 - Error 0.84139\n",
      "Mean Error = 0.55223\n"
     ]
    }
   ],
   "source": [
    "# Try Random Forests?\n",
    "mean_error = []\n",
    "for week in range(7, 9):\n",
    "    train = time_qb3[time_qb3['week'] < week]\n",
    "    val = time_qb3[time_qb3['week'] == week]\n",
    "    \n",
    "    xtr, xts = train.drop(['points'], axis=1), val.drop(['points'], axis=1)\n",
    "    ytr, yts = train['points'].values, val['points'].values\n",
    "    \n",
    "    mdl = RandomForestRegressor(n_estimators=1000, n_jobs=-1, random_state=69420)\n",
    "    mdl.fit(xtr, ytr)\n",
    "    \n",
    "    p = mdl.predict(xts)\n",
    "    \n",
    "    error = rmsle(yts, p)\n",
    "    print('Week %d - Error %.5f' % (week, error))\n",
    "    mean_error.append(error)\n",
    "print('Mean Error = %.5f' % np.mean(mean_error))"
   ]
  },
  {
   "cell_type": "code",
   "execution_count": 2,
   "metadata": {},
   "outputs": [
    {
     "ename": "NameError",
     "evalue": "name 'qb_X' is not defined",
     "output_type": "error",
     "traceback": [
      "\u001b[0;31m---------------------------------------------------------------------------\u001b[0m",
      "\u001b[0;31mNameError\u001b[0m                                 Traceback (most recent call last)",
      "\u001b[0;32m<ipython-input-2-e13dee60a2e8>\u001b[0m in \u001b[0;36m<module>\u001b[0;34m\u001b[0m\n\u001b[0;32m----> 1\u001b[0;31m \u001b[0mqb_X\u001b[0m\u001b[0;34m\u001b[0m\u001b[0;34m\u001b[0m\u001b[0m\n\u001b[0m",
      "\u001b[0;31mNameError\u001b[0m: name 'qb_X' is not defined"
     ]
    }
   ],
   "source": [
    "qb_X"
   ]
  },
  {
   "cell_type": "markdown",
   "metadata": {},
   "source": [
    "## Vector Auto Regression"
   ]
  },
  {
   "cell_type": "code",
   "execution_count": 110,
   "metadata": {},
   "outputs": [],
   "source": [
    "from statsmodels.tsa.api import VAR\n",
    "from statsmodels.tsa.stattools import adfuller\n",
    "from statsmodels.tools.eval_measures import rmse, aic"
   ]
  },
  {
   "cell_type": "code",
   "execution_count": 19,
   "metadata": {},
   "outputs": [],
   "source": [
    "import matplotlib.pyplot as plt"
   ]
  },
  {
   "cell_type": "code",
   "execution_count": 45,
   "metadata": {},
   "outputs": [
    {
     "data": {
      "text/plain": [
       "array(['t.y.hilton/2532865', 'tavonaustin/2539336',\n",
       "       'hunterrenfrow/2562712', 'dariusslayton/2562736',\n",
       "       'kekecoutee/2561029', 'calvinridley/2560854',\n",
       "       'diontaespencer/2550734', 'marqiselee/2543475',\n",
       "       'ray-raymccloud/2560801', 'malikturner/2561671',\n",
       "       'isaiahmckenzie/2558129', 'allenhurns/2550353',\n",
       "       'willfuller/2555346', 'allenlazard/2560787',\n",
       "       'courtlandsutton/2560888', 'vyncintsmith/2561427',\n",
       "       'jakekumerow/2553548', 'andreroberts/497320',\n",
       "       'sethroberts/2550597', 'laquontreadwell/2555214',\n",
       "       'tylerboyd/2555466', 'jamisoncrowder/2552415',\n",
       "       'gunnerolszewski/2563329', 'joshgordon/2537931',\n",
       "       'robertdavis/2558254', 'sterlingshepard/2555295',\n",
       "       'jujusmith-schuster/2558149', 'khadarelhodge/2561653',\n",
       "       'tajaesharpe/2555317', 'mackhollins/2558262',\n",
       "       'parriscampbell/2562495', 'd.j.moore/2560813',\n",
       "       'michaelgallup/2560735', 'jarvislandry/2543488',\n",
       "       'albertwilson/2550272', 'robbyanderson/2556462',\n",
       "       'joshreynolds/2558194', 'kendrickbourne/2558914',\n",
       "       'stanleymorgan/2562504', 'andrepatton/2559227',\n",
       "       'emmanuelsanders/497322', 'marquisegoodwin/2539964',\n",
       "       'ryanswitzer/2557960', 'justinhardy/2552418',\n",
       "       'jakeemgrant/2556190', 'pharohcooper/2555419',\n",
       "       'damionratley/2561054', 'coreydavis/2557848',\n",
       "       'russellgage/2561061', \"de'anthonythomas/2543638\",\n",
       "       'allenrobinson/2543509', 'treyquinn/2560847', 'austincarr/2558928',\n",
       "       'kelvinharmon/2562577', 'zayjones/2557863',\n",
       "       'mecolehardman/2562580', 'dwayneharris/2495159',\n",
       "       'cooperkupp/2557898', 'damionwillis/2563238', 'devinsmith/2553434',\n",
       "       'darriusshepherd/2563128', 'marquezvaldes-scantling/2560907',\n",
       "       'adamthielen/2541785', 'geronimoallison/2556460',\n",
       "       'marquisebrown/2562379', 'isaiahford/2558071', 'mikeevans/2543468',\n",
       "       'mikewilliams/2558846', 'kennystills/2540202',\n",
       "       'dedewestbrook/2557895', 'demarcusrobinson/2555478',\n",
       "       'kennygolladay/2558052', 'braxtonberrios/2560975',\n",
       "       'taylorgabriel/2550617', 'damierebyrd/2553499',\n",
       "       'deseanjackson/1581', 'chrislacy/2560783',\n",
       "       'keeseanjohnson/2562677', 'milesboykin/2562631',\n",
       "       'mohamedsanu/2533040', 'jasonmoore/2562860',\n",
       "       'johnnyholton/2556805', 'byronpringle/2560844',\n",
       "       'chrishogan/2530515', 'dontemoncrief/2543614',\n",
       "       'paulrichardson/2543491', 'juliojones/2495454',\n",
       "       \"lil'jordanhumphrey/2562668\", 'davidmoore/2558856',\n",
       "       'nelsonagholor/2552600', 'keelancole/2559153',\n",
       "       'michaelthomas/2556370', 'williesnead/2550256',\n",
       "       'deebosamuel/2562721', 'dariusjennings/2553896',\n",
       "       'matthewslater/4487', 'antoniobrown/2508061',\n",
       "       'marvinjones/2532884', 'dontrelleinman/2530700',\n",
       "       'diontaejohnson/2562674', 'dannyamendola/2649',\n",
       "       'javonwims/2560939', 'deandrehopkins/2540165',\n",
       "       'trevordavis/2555413', 'robertwoods/2540169', 'jaronbrown/2541966',\n",
       "       'dantepettis/2560836', 'goldentate/497326',\n",
       "       'chesterrogers/2556396', 'jakobimeyers/2562492',\n",
       "       'taywantaylor/2557870', 'codycore/2555331', 'audentate/2560890',\n",
       "       'julianedelman/238498', 'd.k.metcalf/2562685',\n",
       "       'timpatrick/2558985', 'prestonwilliams/2562805',\n",
       "       'joshbellamy/2535964', 'deonteharris/2563155',\n",
       "       'stefondiggs/2552608', 'johnross/2558010', 'sammywatkins/2543457',\n",
       "       'jojonatson/2558905', 'johnbrown/2543847',\n",
       "       'cordarrellepatterson/2540145', 'randallcobb/2495448',\n",
       "       'colebeasley/2535698', 'andyisabella/2562669',\n",
       "       'davanteadams/2543495', 'terrymclaurin/2562489',\n",
       "       'jariuswright/2532978', 'geremydavis/2552654',\n",
       "       'robertfoster/2560729', 'tyrellwilliams/2553913',\n",
       "       'amaricooper/2552487', 'daeseanhamilton/2561002',\n",
       "       'deandrecarter/2553502', 'mikethomas/2556381',\n",
       "       'keenanallen/2540154', 'larryfitzgerald/2506106',\n",
       "       'russellshepard/2541944', 'deoncain/2560987',\n",
       "       'chrisgodwin/2558105', 'j.j.nelson/2552656', 'zachpascal/2558877',\n",
       "       'justinwatson/2560051', 'brandincooks/2543498',\n",
       "       'demaryiusthomas/497328', 'keelandoss/2562393',\n",
       "       'tyreekhill/2556214', 'phillipdorsett/2552424',\n",
       "       'richiejames/2560761', 'benniefowler/2550198',\n",
       "       'trentsherfield/2561272', 'a.j.brown/2562238',\n",
       "       'scottmiller/2562865', 'travisbenjamin/2532790',\n",
       "       'fredbrown/2559396', 'chrisconley/2552652',\n",
       "       'devinfunchess/2552458', 'christiankirk/2560781',\n",
       "       'alshonjeffery/2533039', 'anthonymiller/2560810',\n",
       "       'codylatimer/2543590', 'd.j.chark/2561018', 'alexerickson/2556519',\n",
       "       'dukewilliams/2556836', 'chrismoore/2555209',\n",
       "       'adamhumphries/2553895', 'curtissamuel/2558066',\n",
       "       'tylerlockett/2552430', 'devanteparker/2552409',\n",
       "       'bobowilson/2559013', 'michaelcrabtree/71269',\n",
       "       'breshadperriman/2552597'], dtype=object)"
      ]
     },
     "execution_count": 45,
     "metadata": {},
     "output_type": "execute_result"
    }
   ],
   "source": [
    "wr['Player Id'].unique()"
   ]
  },
  {
   "cell_type": "code",
   "execution_count": 68,
   "metadata": {},
   "outputs": [
    {
     "data": {
      "text/html": [
       "<div>\n",
       "<style scoped>\n",
       "    .dataframe tbody tr th:only-of-type {\n",
       "        vertical-align: middle;\n",
       "    }\n",
       "\n",
       "    .dataframe tbody tr th {\n",
       "        vertical-align: top;\n",
       "    }\n",
       "\n",
       "    .dataframe thead th {\n",
       "        text-align: right;\n",
       "    }\n",
       "</style>\n",
       "<table border=\"1\" class=\"dataframe\">\n",
       "  <thead>\n",
       "    <tr style=\"text-align: right;\">\n",
       "      <th></th>\n",
       "      <th>Player Id</th>\n",
       "      <th>name</th>\n",
       "      <th>Home or Away</th>\n",
       "      <th>opponent</th>\n",
       "      <th>Outcome</th>\n",
       "      <th>Score</th>\n",
       "      <th>Games Started</th>\n",
       "      <th>Receptions</th>\n",
       "      <th>Receiving Yards</th>\n",
       "      <th>Yards Per Reception</th>\n",
       "      <th>...</th>\n",
       "      <th>Birthday</th>\n",
       "      <th>College</th>\n",
       "      <th>Current Status</th>\n",
       "      <th>Current Team</th>\n",
       "      <th>Experience</th>\n",
       "      <th>Height (inches)</th>\n",
       "      <th>High School</th>\n",
       "      <th>High School Location</th>\n",
       "      <th>Number</th>\n",
       "      <th>Weight (lbs)</th>\n",
       "    </tr>\n",
       "    <tr>\n",
       "      <th>week</th>\n",
       "      <th></th>\n",
       "      <th></th>\n",
       "      <th></th>\n",
       "      <th></th>\n",
       "      <th></th>\n",
       "      <th></th>\n",
       "      <th></th>\n",
       "      <th></th>\n",
       "      <th></th>\n",
       "      <th></th>\n",
       "      <th></th>\n",
       "      <th></th>\n",
       "      <th></th>\n",
       "      <th></th>\n",
       "      <th></th>\n",
       "      <th></th>\n",
       "      <th></th>\n",
       "      <th></th>\n",
       "      <th></th>\n",
       "      <th></th>\n",
       "      <th></th>\n",
       "    </tr>\n",
       "  </thead>\n",
       "  <tbody>\n",
       "    <tr>\n",
       "      <th>1.0</th>\n",
       "      <td>60</td>\n",
       "      <td>60</td>\n",
       "      <td>60</td>\n",
       "      <td>60</td>\n",
       "      <td>60</td>\n",
       "      <td>60</td>\n",
       "      <td>60</td>\n",
       "      <td>60</td>\n",
       "      <td>60</td>\n",
       "      <td>60</td>\n",
       "      <td>...</td>\n",
       "      <td>60</td>\n",
       "      <td>60</td>\n",
       "      <td>60</td>\n",
       "      <td>58</td>\n",
       "      <td>60</td>\n",
       "      <td>60</td>\n",
       "      <td>58</td>\n",
       "      <td>58</td>\n",
       "      <td>56</td>\n",
       "      <td>60</td>\n",
       "    </tr>\n",
       "    <tr>\n",
       "      <th>2.0</th>\n",
       "      <td>67</td>\n",
       "      <td>67</td>\n",
       "      <td>67</td>\n",
       "      <td>67</td>\n",
       "      <td>67</td>\n",
       "      <td>67</td>\n",
       "      <td>67</td>\n",
       "      <td>67</td>\n",
       "      <td>67</td>\n",
       "      <td>67</td>\n",
       "      <td>...</td>\n",
       "      <td>67</td>\n",
       "      <td>67</td>\n",
       "      <td>67</td>\n",
       "      <td>63</td>\n",
       "      <td>67</td>\n",
       "      <td>67</td>\n",
       "      <td>63</td>\n",
       "      <td>63</td>\n",
       "      <td>63</td>\n",
       "      <td>67</td>\n",
       "    </tr>\n",
       "    <tr>\n",
       "      <th>3.0</th>\n",
       "      <td>44</td>\n",
       "      <td>44</td>\n",
       "      <td>44</td>\n",
       "      <td>44</td>\n",
       "      <td>44</td>\n",
       "      <td>44</td>\n",
       "      <td>44</td>\n",
       "      <td>44</td>\n",
       "      <td>44</td>\n",
       "      <td>44</td>\n",
       "      <td>...</td>\n",
       "      <td>44</td>\n",
       "      <td>44</td>\n",
       "      <td>44</td>\n",
       "      <td>43</td>\n",
       "      <td>44</td>\n",
       "      <td>44</td>\n",
       "      <td>42</td>\n",
       "      <td>42</td>\n",
       "      <td>41</td>\n",
       "      <td>44</td>\n",
       "    </tr>\n",
       "    <tr>\n",
       "      <th>4.0</th>\n",
       "      <td>54</td>\n",
       "      <td>54</td>\n",
       "      <td>54</td>\n",
       "      <td>54</td>\n",
       "      <td>54</td>\n",
       "      <td>54</td>\n",
       "      <td>54</td>\n",
       "      <td>54</td>\n",
       "      <td>54</td>\n",
       "      <td>54</td>\n",
       "      <td>...</td>\n",
       "      <td>54</td>\n",
       "      <td>54</td>\n",
       "      <td>54</td>\n",
       "      <td>53</td>\n",
       "      <td>54</td>\n",
       "      <td>54</td>\n",
       "      <td>53</td>\n",
       "      <td>53</td>\n",
       "      <td>50</td>\n",
       "      <td>54</td>\n",
       "    </tr>\n",
       "    <tr>\n",
       "      <th>5.0</th>\n",
       "      <td>60</td>\n",
       "      <td>60</td>\n",
       "      <td>60</td>\n",
       "      <td>60</td>\n",
       "      <td>60</td>\n",
       "      <td>60</td>\n",
       "      <td>60</td>\n",
       "      <td>60</td>\n",
       "      <td>60</td>\n",
       "      <td>60</td>\n",
       "      <td>...</td>\n",
       "      <td>60</td>\n",
       "      <td>60</td>\n",
       "      <td>60</td>\n",
       "      <td>60</td>\n",
       "      <td>60</td>\n",
       "      <td>60</td>\n",
       "      <td>60</td>\n",
       "      <td>60</td>\n",
       "      <td>60</td>\n",
       "      <td>60</td>\n",
       "    </tr>\n",
       "    <tr>\n",
       "      <th>6.0</th>\n",
       "      <td>35</td>\n",
       "      <td>35</td>\n",
       "      <td>35</td>\n",
       "      <td>35</td>\n",
       "      <td>35</td>\n",
       "      <td>35</td>\n",
       "      <td>35</td>\n",
       "      <td>35</td>\n",
       "      <td>35</td>\n",
       "      <td>35</td>\n",
       "      <td>...</td>\n",
       "      <td>35</td>\n",
       "      <td>35</td>\n",
       "      <td>35</td>\n",
       "      <td>34</td>\n",
       "      <td>35</td>\n",
       "      <td>35</td>\n",
       "      <td>34</td>\n",
       "      <td>34</td>\n",
       "      <td>33</td>\n",
       "      <td>35</td>\n",
       "    </tr>\n",
       "    <tr>\n",
       "      <th>7.0</th>\n",
       "      <td>60</td>\n",
       "      <td>60</td>\n",
       "      <td>60</td>\n",
       "      <td>60</td>\n",
       "      <td>60</td>\n",
       "      <td>60</td>\n",
       "      <td>60</td>\n",
       "      <td>60</td>\n",
       "      <td>60</td>\n",
       "      <td>60</td>\n",
       "      <td>...</td>\n",
       "      <td>60</td>\n",
       "      <td>60</td>\n",
       "      <td>60</td>\n",
       "      <td>60</td>\n",
       "      <td>60</td>\n",
       "      <td>60</td>\n",
       "      <td>59</td>\n",
       "      <td>59</td>\n",
       "      <td>58</td>\n",
       "      <td>60</td>\n",
       "    </tr>\n",
       "    <tr>\n",
       "      <th>8.0</th>\n",
       "      <td>41</td>\n",
       "      <td>41</td>\n",
       "      <td>41</td>\n",
       "      <td>41</td>\n",
       "      <td>41</td>\n",
       "      <td>41</td>\n",
       "      <td>41</td>\n",
       "      <td>41</td>\n",
       "      <td>41</td>\n",
       "      <td>41</td>\n",
       "      <td>...</td>\n",
       "      <td>41</td>\n",
       "      <td>41</td>\n",
       "      <td>41</td>\n",
       "      <td>41</td>\n",
       "      <td>41</td>\n",
       "      <td>41</td>\n",
       "      <td>40</td>\n",
       "      <td>40</td>\n",
       "      <td>41</td>\n",
       "      <td>41</td>\n",
       "    </tr>\n",
       "  </tbody>\n",
       "</table>\n",
       "<p>8 rows × 35 columns</p>\n",
       "</div>"
      ],
      "text/plain": [
       "      Player Id  name  Home or Away  opponent  Outcome  Score  Games Started  \\\n",
       "week                                                                           \n",
       "1.0          60    60            60        60       60     60             60   \n",
       "2.0          67    67            67        67       67     67             67   \n",
       "3.0          44    44            44        44       44     44             44   \n",
       "4.0          54    54            54        54       54     54             54   \n",
       "5.0          60    60            60        60       60     60             60   \n",
       "6.0          35    35            35        35       35     35             35   \n",
       "7.0          60    60            60        60       60     60             60   \n",
       "8.0          41    41            41        41       41     41             41   \n",
       "\n",
       "      Receptions  Receiving Yards  Yards Per Reception  ...  Birthday  \\\n",
       "week                                                    ...             \n",
       "1.0           60               60                   60  ...        60   \n",
       "2.0           67               67                   67  ...        67   \n",
       "3.0           44               44                   44  ...        44   \n",
       "4.0           54               54                   54  ...        54   \n",
       "5.0           60               60                   60  ...        60   \n",
       "6.0           35               35                   35  ...        35   \n",
       "7.0           60               60                   60  ...        60   \n",
       "8.0           41               41                   41  ...        41   \n",
       "\n",
       "      College  Current Status  Current Team  Experience  Height (inches)  \\\n",
       "week                                                                       \n",
       "1.0        60              60            58          60               60   \n",
       "2.0        67              67            63          67               67   \n",
       "3.0        44              44            43          44               44   \n",
       "4.0        54              54            53          54               54   \n",
       "5.0        60              60            60          60               60   \n",
       "6.0        35              35            34          35               35   \n",
       "7.0        60              60            60          60               60   \n",
       "8.0        41              41            41          41               41   \n",
       "\n",
       "      High School  High School Location  Number  Weight (lbs)  \n",
       "week                                                           \n",
       "1.0            58                    58      56            60  \n",
       "2.0            63                    63      63            67  \n",
       "3.0            42                    42      41            44  \n",
       "4.0            53                    53      50            54  \n",
       "5.0            60                    60      60            60  \n",
       "6.0            34                    34      33            35  \n",
       "7.0            59                    59      58            60  \n",
       "8.0            40                    40      41            41  \n",
       "\n",
       "[8 rows x 35 columns]"
      ]
     },
     "execution_count": 68,
     "metadata": {},
     "output_type": "execute_result"
    }
   ],
   "source": [
    "# wr[wr['Player Id'] == 'd.j.chark/2561018']\n",
    "\n",
    "wr.groupby('week').count()\n",
    "\n",
    "# wr['Player Id'].max()"
   ]
  },
  {
   "cell_type": "code",
   "execution_count": 58,
   "metadata": {},
   "outputs": [
    {
     "data": {
      "text/plain": [
       "[<matplotlib.lines.Line2D at 0x1a1bfbda90>]"
      ]
     },
     "execution_count": 58,
     "metadata": {},
     "output_type": "execute_result"
    },
    {
     "data": {
      "image/png": "[encoded data removed]",
      "text/plain": [
       "<Figure size 432x288 with 1 Axes>"
      ]
     },
     "metadata": {
      "needs_background": "light"
     },
     "output_type": "display_data"
    }
   ],
   "source": [
    "alt = wr[wr['Player Id'] == 'd.j.chark/2561018']\n",
    "altered = alt[['week', 'points']]\n",
    "altered = altered.set_index(['week'])\n",
    "plt.xlabel('week')\n",
    "plt.ylabel('points')\n",
    "plt.plot(altered)"
   ]
  },
  {
   "cell_type": "code",
   "execution_count": 69,
   "metadata": {},
   "outputs": [
    {
     "data": {
      "text/html": [
       "<div>\n",
       "<style scoped>\n",
       "    .dataframe tbody tr th:only-of-type {\n",
       "        vertical-align: middle;\n",
       "    }\n",
       "\n",
       "    .dataframe tbody tr th {\n",
       "        vertical-align: top;\n",
       "    }\n",
       "\n",
       "    .dataframe thead th {\n",
       "        text-align: right;\n",
       "    }\n",
       "</style>\n",
       "<table border=\"1\" class=\"dataframe\">\n",
       "  <thead>\n",
       "    <tr style=\"text-align: right;\">\n",
       "      <th></th>\n",
       "      <th>points</th>\n",
       "    </tr>\n",
       "    <tr>\n",
       "      <th>week</th>\n",
       "      <th></th>\n",
       "    </tr>\n",
       "  </thead>\n",
       "  <tbody>\n",
       "    <tr>\n",
       "      <th>2.0</th>\n",
       "      <td>15.0</td>\n",
       "    </tr>\n",
       "    <tr>\n",
       "      <th>4.0</th>\n",
       "      <td>6.4</td>\n",
       "    </tr>\n",
       "    <tr>\n",
       "      <th>5.0</th>\n",
       "      <td>32.4</td>\n",
       "    </tr>\n",
       "    <tr>\n",
       "      <th>7.0</th>\n",
       "      <td>8.8</td>\n",
       "    </tr>\n",
       "  </tbody>\n",
       "</table>\n",
       "</div>"
      ],
      "text/plain": [
       "      points\n",
       "week        \n",
       "2.0     15.0\n",
       "4.0      6.4\n",
       "5.0     32.4\n",
       "7.0      8.8"
      ]
     },
     "execution_count": 69,
     "metadata": {},
     "output_type": "execute_result"
    }
   ],
   "source": [
    "altered"
   ]
  },
  {
   "cell_type": "code",
   "execution_count": null,
   "metadata": {},
   "outputs": [],
   "source": []
  }
 ],
 "metadata": {
  "kernelspec": {
   "display_name": "Python 3",
   "language": "python",
   "name": "python3"
  },
  "language_info": {
   "codemirror_mode": {
    "name": "ipython",
    "version": 3
   },
   "file_extension": ".py",
   "mimetype": "text/x-python",
   "name": "python",
   "nbconvert_exporter": "python",
   "pygments_lexer": "ipython3",
   "version": "3.6.8"
  }
 },
 "nbformat": 4,
 "nbformat_minor": 2
}
