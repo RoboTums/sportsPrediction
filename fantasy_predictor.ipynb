{
 "cells": [
  {
   "cell_type": "code",
   "execution_count": 1,
   "metadata": {},
   "outputs": [],
   "source": [
    "import pandas as pd\n",
    "import numpy as np"
   ]
  },
  {
   "cell_type": "markdown",
   "metadata": {},
   "source": [
    "## Feature Analysis"
   ]
  },
  {
   "cell_type": "code",
   "execution_count": 357,
   "metadata": {},
   "outputs": [],
   "source": [
    "qb = pd.read_csv(\"data/finalized_data/finalized_QB.csv\", index_col=0)\n",
    "de = pd.read_csv(\"data/finalized_data/finalized_DEF.csv\", index_col=0)\n",
    "rb = pd.read_csv(\"data/finalized_data/finalized_RB.csv\", index_col=0)\n",
    "te = pd.read_csv(\"data/finalized_data/finalized_TE.csv\", index_col=0)\n",
    "wr = pd.read_csv(\"data/finalized_data/finalized_WR.csv\", index_col=0)\n"
   ]
  },
  {
   "cell_type": "markdown",
   "metadata": {},
   "source": [
    "### VARIABLES \n",
    "\n",
    "#### Very important variables\n",
    "- week (for time series)\n",
    "- Outcome\n",
    "- Score\n",
    "\n",
    "#### Useless variables\n",
    "- Season \n",
    "- Position (same as file name, except for FB and RB in RB)\n",
    "- Game Date is probably irrelevant if we have the weeks?\n",
    "- Also all Years are 2019\n",
    "- All Games Played are 1\n",
    "- All Years Played are nan\n",
    "\n",
    "#### All\n",
    "- week (1) #integer\n",
    "- opponent ('PIT') #string\n",
    "- team ('det') #string\n",
    "- salary (4500) #integer\n",
    "- name ('Gabriel, Taylor' or 'Minnesota') #string\n",
    "- Player Id\n",
    "\n",
    "#### ALL BUT DEF AND QB\n",
    "- Longest Reception ('5T' '-8' '--') #string\n",
    "- Longest Rushing Run ('--' '4T' '9') #string\n",
    "- Receptions ('--' or '1') #string\n",
    "- Yards per Reception ('--' '6.0') #string\n",
    "\n",
    "#### All BUT DEF\n",
    "- Year (2019) #integer\n",
    "- Game Date ('09/08') #string\n",
    "- Home or Away ('Away') #string\n",
    "- Outcome ('W') #string\n",
    "- Score ('59 to 10') #string -> x to y --> x - y\n",
    "- Games Started (1 or 0) #integer\n",
    "- Rushing Attempts ('7' or '--') #string\n",
    "- Yards Per Carry ('10.7' or '--') #string\n",
    "- Rushing TDs ('1' or '--') #string\n",
    "- Rushing Yards ('32' or '--' ) #string\n",
    "- Fumbles ('--' or '1') #string\n",
    "- Fumbles Lost ('--' or '1') #string\n",
    "- Age (21.) #float?\n",
    "- Birth Place ('Gainesville , GA') #string\n",
    "- Birthday ('1/7/1997') #string\n",
    "- College ('Louisville') #string\n",
    "- Current Status ('Injured reserve') #string\n",
    "- Current Team ('Buffalo Bills') #string WHAT IS THE DIFFERENCE BETWEEN THIS AND team???\n",
    "- Experience ('10th season') #string\n",
    "- Height (inches) (71.) #float\n",
    "- High School ('Grand Blanc HS') #string\n",
    "- High School Location ('Powder Springs, GA' or 'GA') #string\n",
    "- Number (nan or 17. ) #float\n",
    "- Weight (lbs) (260.) #float\n",
    "\n",
    "#### ONLY ON QB \n",
    "- Passes Completed ('17' or '--') #string\n",
    "- Passes Attempted ('17' or '--') #string\n",
    "- Completion Percentage ('57.7' or '--') #string\n",
    "- Passing Yards ('308' or '--') #string\n",
    "- Passing Yards Per Attempt ('9.1' or '--') #string\n",
    "- TD Passes ('3' or '--') #string\n",
    "- Ints ('2' or '--') #string\n",
    "- Sacks ('3' or '--') #string\n",
    "- Sacked Yards Lost ('17' or '--') #string\n",
    "- Passer Rating (71.9) #float"
   ]
  },
  {
   "cell_type": "markdown",
   "metadata": {},
   "source": [
    "### Next Steps\n",
    "\n",
    "1. Do analysis for the rest of features (CHECK)\n",
    "2. One-hot-encode the strings and convert all ints to floats\n",
    "3. Create one feature vector per instance\n",
    "4. Separate the time variable, and labels\n",
    "5. Start experimenting with regressors"
   ]
  },
  {
   "cell_type": "code",
   "execution_count": 332,
   "metadata": {},
   "outputs": [
    {
     "data": {
      "text/plain": [
       "(52, ['name', 'team', 'opponent', 'points', 'salary', 'week'])"
      ]
     },
     "execution_count": 332,
     "metadata": {},
     "output_type": "execute_result"
    }
   ],
   "source": [
    "all_cols = list(qb.columns) + list(rb.columns) + list(wr.columns) + list(te.columns)\n",
    "all_cols = set(all_cols)\n",
    "def_cols = list(de.columns)\n",
    "len(all_cols), def_cols"
   ]
  },
  {
   "cell_type": "markdown",
   "metadata": {},
   "source": [
    "## Data Engineering"
   ]
  },
  {
   "cell_type": "code",
   "execution_count": 333,
   "metadata": {},
   "outputs": [],
   "source": [
    "from sklearn.preprocessing import StandardScaler\n",
    "from sklearn.decomposition import PCA\n",
    "from sklearn.model_selection import GridSearchCV\n",
    "from sklearn.pipeline import Pipeline"
   ]
  },
  {
   "cell_type": "code",
   "execution_count": 358,
   "metadata": {},
   "outputs": [],
   "source": [
    "### Remove columns\n",
    "to_remove = [\"Season\", \"Position\", \"Game Date\", \"Year\", \"Games Played\", \"Years Played\", \"Player Id\", \"name\"]\n",
    "\n",
    "targets = [qb, wr, te, rb]\n",
    "\n",
    "for target in targets:\n",
    "    target.drop(to_remove, axis=1, inplace=True)"
   ]
  },
  {
   "cell_type": "code",
   "execution_count": 359,
   "metadata": {},
   "outputs": [],
   "source": [
    "all_numerical_cols = [\"week\", \"salary\"]\n",
    "\n",
    "not_def_numerical_cols = [\"Games Started\", \"Rushing Attempts\", \"Yards Per Carry\", \"Rushing TDs\", \n",
    "                          \"Rushing Yards\", \"Fumbles\", \"Fumbles Lost\", \"Age\", \"Height (inches)\", \n",
    "                          \"Weight (lbs)\", \"Number\"]\n",
    "\n",
    "not_def_qb_numerical_cols = [\"Receptions\", \"Yards Per Reception\"]\n",
    "\n",
    "only_qb = [\"Passes Completed\", \"Passes Attempted\", \"Completion Percentage\", \"Passing Yards\", \"Sacked Yards Lost\",\n",
    "           \"Passing Yards Per Attempt\", \"TD Passes\", \"Ints\", \"Sacks\", \"Passer Rating\"]"
   ]
  },
  {
   "cell_type": "code",
   "execution_count": 360,
   "metadata": {},
   "outputs": [],
   "source": [
    "# Convert all numerical values to floats\n",
    "for target in [qb, wr, te, rb, de]:\n",
    "    for col in all_numerical_cols:\n",
    "        target[col] = target[col].replace(\"--\", \"0\").astype(\"float64\")\n",
    "\n",
    "for target in targets:\n",
    "    for col in not_def_numerical_cols:\n",
    "        target[col] = target[col].replace(\"--\", \"0\").astype(\"float64\")\n",
    "\n",
    "for target in [wr, te, rb]:\n",
    "    for col in not_def_qb_numerical_cols:\n",
    "        target[col] = target[col].replace(\"--\", \"0\").astype(\"float64\")\n",
    "        \n",
    "for col in only_qb:\n",
    "    qb[col] = qb[col].replace(\"--\", \"0\").astype(\"float64\")"
   ]
  },
  {
   "cell_type": "code",
   "execution_count": 361,
   "metadata": {
    "scrolled": true
   },
   "outputs": [
    {
     "data": {
      "text/plain": [
       "Index(['week', 'Home or Away', 'opponent', 'Outcome', 'Score', 'Games Started',\n",
       "       'Passes Completed', 'Passes Attempted', 'Completion Percentage',\n",
       "       'Passing Yards', 'Passing Yards Per Attempt', 'TD Passes', 'Ints',\n",
       "       'Sacks', 'Sacked Yards Lost', 'Passer Rating', 'Rushing Attempts',\n",
       "       'Rushing Yards', 'Yards Per Carry', 'Rushing TDs', 'Fumbles',\n",
       "       'Fumbles Lost', 'Unnamed: 0.1', 'team', 'points', 'salary', 'Age',\n",
       "       'Birth Place', 'Birthday', 'College', 'Current Status', 'Current Team',\n",
       "       'Experience', 'Height (inches)', 'High School', 'High School Location',\n",
       "       'Number', 'Weight (lbs)'],\n",
       "      dtype='object')"
      ]
     },
     "execution_count": 361,
     "metadata": {},
     "output_type": "execute_result"
    }
   ],
   "source": [
    "qb.columns"
   ]
  },
  {
   "cell_type": "code",
   "execution_count": 362,
   "metadata": {},
   "outputs": [],
   "source": [
    "### Transform data\n",
    "final_dfs = []\n",
    "\n",
    "def transform(target):\n",
    "    # Retrieve columns w/ categorical data\n",
    "    cat = target.select_dtypes(include=['object']).copy()\n",
    "    \n",
    "    #Return df with onehot encoding applied to the columns which are categorical\n",
    "    one_hot = pd.get_dummies(target, columns=cat.columns)\n",
    "    one_hot = one_hot.replace(np.nan, 0.0)\n",
    "    \n",
    "    return one_hot\n",
    "\n",
    "qb = transform(qb)\n",
    "wr = transform(wr)\n",
    "te = transform(te)\n",
    "rb = transform(rb)"
   ]
  },
  {
   "cell_type": "code",
   "execution_count": 365,
   "metadata": {},
   "outputs": [],
   "source": [
    "# Turn into X and Y\n",
    "qb_X = qb.drop(\"points\", axis=1).values\n",
    "qb_y = qb[\"points\"].values"
   ]
  },
  {
   "cell_type": "code",
   "execution_count": 366,
   "metadata": {},
   "outputs": [
    {
     "data": {
      "text/plain": [
       "array([[ 1.,  1., 17., ...,  0.,  0.,  0.],\n",
       "       [ 5.,  1., 19., ...,  0.,  0.,  0.],\n",
       "       [ 7.,  1.,  9., ...,  0.,  0.,  0.],\n",
       "       ...,\n",
       "       [ 4.,  1., 18., ...,  0.,  0.,  0.],\n",
       "       [ 5.,  1., 28., ...,  0.,  0.,  0.],\n",
       "       [ 7.,  1., 31., ...,  0.,  0.,  0.]])"
      ]
     },
     "execution_count": 366,
     "metadata": {},
     "output_type": "execute_result"
    }
   ],
   "source": [
    "qb_X"
   ]
  },
  {
   "cell_type": "code",
   "execution_count": 367,
   "metadata": {},
   "outputs": [
    {
     "data": {
      "text/plain": [
       "103"
      ]
     },
     "execution_count": 367,
     "metadata": {},
     "output_type": "execute_result"
    }
   ],
   "source": [
    "len(qb_X)"
   ]
  },
  {
   "cell_type": "code",
   "execution_count": 368,
   "metadata": {},
   "outputs": [],
   "source": [
    "# Scale/normalize values\n",
    "scaler = StandardScaler()\n",
    "# Fit on training set only.\n",
    "scaler.fit(qb_X)\n",
    "# Apply transform to both the training set and the test set.\n",
    "qb_X = scaler.transform(qb_X)"
   ]
  },
  {
   "cell_type": "code",
   "execution_count": 369,
   "metadata": {},
   "outputs": [
    {
     "data": {
      "text/plain": [
       "103"
      ]
     },
     "execution_count": 369,
     "metadata": {},
     "output_type": "execute_result"
    }
   ],
   "source": [
    "len(qb_X)"
   ]
  },
  {
   "cell_type": "code",
   "execution_count": 375,
   "metadata": {},
   "outputs": [],
   "source": [
    "# Perform Grid Search on PCA\n",
    "pca = PCA(n_components=0.95)\n",
    "pca.fit(qb_X)\n",
    "trans_qb_X = pca.transform(qb_X)\n",
    "\n",
    "# param_grid = {\n",
    "#     'n_components': [20, 35, 50, 65, 0.95]\n",
    "# }\n",
    "# search = GridSearchCV(pca, param_grid, n_jobs=-1)\n",
    "# search.fit(qb_X, qb_y)\n",
    "# print(\"Best parameter (CV score=%0.3f):\" % search.best_score_)\n",
    "# print(search.best_params_)\n"
   ]
  },
  {
   "cell_type": "code",
   "execution_count": 376,
   "metadata": {},
   "outputs": [
    {
     "data": {
      "text/plain": [
       "72"
      ]
     },
     "execution_count": 376,
     "metadata": {},
     "output_type": "execute_result"
    }
   ],
   "source": [
    "len(trans_qb_X[0])"
   ]
  },
  {
   "cell_type": "markdown",
   "metadata": {},
   "source": [
    "## Regression"
   ]
  },
  {
   "cell_type": "code",
   "execution_count": 381,
   "metadata": {},
   "outputs": [],
   "source": [
    "# Apply simple Ridge Regression for testing purposes\n",
    "from sklearn.linear_model import Ridge\n",
    "from sklearn.model_selection import train_test_split"
   ]
  },
  {
   "cell_type": "code",
   "execution_count": 382,
   "metadata": {},
   "outputs": [],
   "source": [
    "X_train, X_test, y_train, y_test=train_test_split(qb_X, qb_y, test_size=0.2,random_state=69420)"
   ]
  },
  {
   "cell_type": "code",
   "execution_count": 383,
   "metadata": {},
   "outputs": [
    {
     "name": "stderr",
     "output_type": "stream",
     "text": [
      "/Users/dafirebanks/anaconda3/lib/python3.6/site-packages/sklearn/model_selection/_split.py:1978: FutureWarning: The default value of cv will change from 3 to 5 in version 0.22. Specify it explicitly to silence this warning.\n",
      "  warnings.warn(CV_WARNING, FutureWarning)\n"
     ]
    },
    {
     "name": "stdout",
     "output_type": "stream",
     "text": [
      "Best parameter (CV score=0.611):\n",
      "{'alpha': 10}\n"
     ]
    }
   ],
   "source": [
    "ridge = Ridge()\n",
    "param_grid = {\n",
    "    'alpha': [0.01, 0.1, 0.2, 1, 10, 100]\n",
    "}\n",
    "search = GridSearchCV(ridge, param_grid, n_jobs=-1)\n",
    "search.fit(X_train, y_train)\n",
    "print(\"Best parameter (CV score=%0.3f):\" % search.best_score_)\n",
    "print(search.best_params_)"
   ]
  },
  {
   "cell_type": "code",
   "execution_count": 386,
   "metadata": {},
   "outputs": [
    {
     "data": {
      "text/plain": [
       "Ridge(alpha=10, copy_X=True, fit_intercept=True, max_iter=None, normalize=False,\n",
       "      random_state=69420, solver='auto', tol=0.001)"
      ]
     },
     "execution_count": 386,
     "metadata": {},
     "output_type": "execute_result"
    }
   ],
   "source": [
    "ridge_opt = Ridge(alpha=10, random_state=69420)\n",
    "ridge_opt.fit(X_train, y_train)"
   ]
  },
  {
   "cell_type": "code",
   "execution_count": 387,
   "metadata": {},
   "outputs": [],
   "source": [
    "preds = ridge_opt.predict(X_test)"
   ]
  },
  {
   "cell_type": "code",
   "execution_count": 392,
   "metadata": {},
   "outputs": [],
   "source": [
    "from sklearn.metrics import mean_absolute_error\n",
    "from sklearn.metrics import mean_squared_error\n",
    "from sklearn.metrics import r2_score"
   ]
  },
  {
   "cell_type": "code",
   "execution_count": 406,
   "metadata": {},
   "outputs": [
    {
     "data": {
      "text/plain": [
       "(28.9, 1.16)"
      ]
     },
     "execution_count": 406,
     "metadata": {},
     "output_type": "execute_result"
    }
   ],
   "source": [
    "max(y_test), min(y_test)"
   ]
  },
  {
   "cell_type": "code",
   "execution_count": 393,
   "metadata": {},
   "outputs": [
    {
     "data": {
      "text/plain": [
       "4.002270756503693"
      ]
     },
     "execution_count": 393,
     "metadata": {},
     "output_type": "execute_result"
    }
   ],
   "source": [
    "mean_absolute_error(y_test, preds)"
   ]
  },
  {
   "cell_type": "code",
   "execution_count": 394,
   "metadata": {},
   "outputs": [
    {
     "data": {
      "text/plain": [
       "25.827383540169226"
      ]
     },
     "execution_count": 394,
     "metadata": {},
     "output_type": "execute_result"
    }
   ],
   "source": [
    "mean_squared_error(y_test, preds)"
   ]
  },
  {
   "cell_type": "code",
   "execution_count": 395,
   "metadata": {},
   "outputs": [
    {
     "data": {
      "text/plain": [
       "0.5532005272426592"
      ]
     },
     "execution_count": 395,
     "metadata": {},
     "output_type": "execute_result"
    }
   ],
   "source": [
    "r2_score(y_test, preds)"
   ]
  },
  {
   "cell_type": "code",
   "execution_count": 401,
   "metadata": {},
   "outputs": [
    {
     "data": {
      "text/plain": [
       "5.082064889409542"
      ]
     },
     "execution_count": 401,
     "metadata": {},
     "output_type": "execute_result"
    }
   ],
   "source": [
    "np.sqrt(mean_squared_error(y_test, preds))"
   ]
  },
  {
   "cell_type": "code",
   "execution_count": 405,
   "metadata": {},
   "outputs": [
    {
     "data": {
      "text/plain": [
       "(21, 21, 21)"
      ]
     },
     "execution_count": 405,
     "metadata": {},
     "output_type": "execute_result"
    }
   ],
   "source": [
    "len(X_test), len(y_test), len(preds)"
   ]
  },
  {
   "cell_type": "code",
   "execution_count": null,
   "metadata": {},
   "outputs": [],
   "source": []
  }
 ],
 "metadata": {
  "kernelspec": {
   "display_name": "Python 3",
   "language": "python",
   "name": "python3"
  },
  "language_info": {
   "codemirror_mode": {
    "name": "ipython",
    "version": 3
   },
   "file_extension": ".py",
   "mimetype": "text/x-python",
   "name": "python",
   "nbconvert_exporter": "python",
   "pygments_lexer": "ipython3",
   "version": "3.6.8"
  }
 },
 "nbformat": 4,
 "nbformat_minor": 2
}
